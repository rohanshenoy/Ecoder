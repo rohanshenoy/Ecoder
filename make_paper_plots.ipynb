{
 "cells": [
  {
   "cell_type": "markdown",
   "id": "d0036f4c",
   "metadata": {},
   "source": [
    "To reproduce ASIC AE EMD Pipeline results"
   ]
  },
  {
   "cell_type": "code",
   "execution_count": 1,
   "id": "3534dd3e",
   "metadata": {},
   "outputs": [],
   "source": [
    "import os\n",
    "import pandas as pd\n",
    "\n",
    "import numpy as np\n",
    "import matplotlib.pyplot as plt\n",
    "import numba\n",
    "import math\n",
    "\n",
    "from utils.metrics import emd\n",
    "from utils.metrics import hexMetric\n",
    "\n",
    "import scipy\n",
    "from scipy import stats, optimize, interpolate\n",
    "\n",
    "\n",
    "from tensorflow.keras.layers import Input, Dense, Flatten, Concatenate, BatchNormalization, Activation, Average, Conv2D\n",
    "from tensorflow.keras.models import Model\n",
    "from keras.models import load_model\n",
    "from tensorflow.keras.regularizers import l1_l2\n",
    "        \n",
    "from tensorflow.keras.callbacks import EarlyStopping, ModelCheckpoint\n",
    "\n",
    "import tensorflow as tf\n",
    "from tensorflow.keras import backend as K\n",
    "\n",
    "from datetime import date"
   ]
  },
  {
   "cell_type": "code",
   "execution_count": 2,
   "id": "18349a7b",
   "metadata": {},
   "outputs": [],
   "source": [
    "import mplhep as hep\n",
    "hep.style.use(\"CMS\")\n",
    "mpl.rcParams['figure.dpi'] = 300"
   ]
  },
  {
   "cell_type": "code",
   "execution_count": 3,
   "id": "f0bfbc0d",
   "metadata": {},
   "outputs": [],
   "source": [
    "def load_data(inputFile):\n",
    "    data=pd.read_csv(inputFile,usecols=[*range(0,48)])\n",
    "    data_values=data.values\n",
    "            \n",
    "    return data_values\n",
    "\n",
    "def load_eta(inputFile):\n",
    "    data=pd.read_csv(inputFile,usecols=[48])\n",
    "    data_values=data.to_numpy().flatten()\n",
    "            \n",
    "    return data_values"
   ]
  },
  {
   "cell_type": "code",
   "execution_count": 4,
   "id": "8cb23044",
   "metadata": {},
   "outputs": [],
   "source": [
    "#Make new image directory for today's updates\n",
    "\n",
    "today = date.today().strftime(\"%m_%d_%y\")\n",
    "\n",
    "img_directory=os.path.join('paper_plots/{}').format(today)\n",
    "\n",
    "if not os.path.exists(img_directory):\n",
    "    os.makedirs(img_directory)"
   ]
  },
  {
   "cell_type": "code",
   "execution_count": 7,
   "id": "86dce046",
   "metadata": {},
   "outputs": [],
   "source": [
    "test_1='/ecoderemdvol/paper_plots/emd_nn_input/files/verify_input_calQ.csv'\n",
    "test_2='/ecoderemdvol/paper_plots/emd_nn_input/files/verify_decoded_calQ.csv'\n",
    "\n",
    "arrange443 = np.array([0,16, 32,\n",
    "                       1,17, 33,\n",
    "                       2,18, 34,\n",
    "                       3,19, 35,\n",
    "                       4,20, 36,\n",
    "                       5,21, 37,\n",
    "                       6,22, 38,\n",
    "                       7,23, 39,\n",
    "                       8,24, 40,\n",
    "                       9,25, 41,\n",
    "                       10,26, 42,\n",
    "                       11,27, 43,\n",
    "                       12,28, 44,\n",
    "                       13,29, 45,\n",
    "                       14,30, 46,\n",
    "                       15,31, 47])"
   ]
  },
  {
   "cell_type": "code",
   "execution_count": 8,
   "id": "a58f2796",
   "metadata": {},
   "outputs": [],
   "source": [
    "calQ1     = load_data(test_1)\n",
    "sumQ1     = calQ1.sum(axis=1)\n",
    "calQ1     = calQ1[sumQ1>0]\n",
    "sumQ1     = sumQ1[sumQ1>0]\n",
    "\n",
    "calQ1_443 = (calQ1/np.expand_dims(sumQ1,-1))[:,arrange443].reshape(-1,4,4,3)\n",
    "\n",
    "calQ2     = load_data(test_2)\n",
    "sumQ2     = calQ2.sum(axis=1)\n",
    "calQ2     = calQ2[sumQ2>0]\n",
    "sumQ2     = sumQ2[sumQ2>0]\n",
    "\n",
    "calQ2_443 = (calQ2/np.expand_dims(sumQ2,-1))[:,arrange443].reshape(-1,4,4,3)\n",
    "\n",
    "#Generate True EMD for validation section of dataset\n",
    "test_index= int(0.7*len(calQ1))\n",
    "test_indices = range(test_index, len(calQ1))"
   ]
  },
  {
   "cell_type": "code",
   "execution_count": 9,
   "id": "ddec2e58",
   "metadata": {},
   "outputs": [],
   "source": [
    "truth_emd = np.array([emd(calQ1[i],calQ2[j]) for i, j in zip(test_indices,test_indices)])"
   ]
  },
  {
   "cell_type": "code",
   "execution_count": 12,
   "id": "a1ce834d",
   "metadata": {},
   "outputs": [
    {
     "data": {
      "image/png": "[encoded data removed]",
      "text/plain": [
       "<Figure size 432x288 with 1 Axes>"
      ]
     },
     "metadata": {
      "needs_background": "light"
     },
     "output_type": "display_data"
    }
   ],
   "source": [
    "fig=plt.figure()\n",
    "fig=plt.hist(truth_emd, alpha=1, bins=np.arange(0, 2.5,0.01), label='TrueEMD')\n",
    "fig=plt.xlabel('EMD [GeV]')\n",
    "fig=plt.ylabel('Samples')\n",
    "fig=plt.legend()\n",
    "plt.savefig(os.path.join(img_directory,'TrueEMD.png'),dpi=600)\n",
    "plt.show()"
   ]
  },
  {
   "cell_type": "code",
   "execution_count": 14,
   "id": "f3cb5478",
   "metadata": {},
   "outputs": [],
   "source": [
    "#Load best emd model \n",
    "\n",
    "model_path='/ecoderemdvol/best_emd/ae_mse_lphe.h5'"
   ]
  },
  {
   "cell_type": "code",
   "execution_count": 15,
   "id": "37600e07",
   "metadata": {},
   "outputs": [
    {
     "name": "stderr",
     "output_type": "stream",
     "text": [
      "2022-11-05 17:32:07.490213: E tensorflow/stream_executor/cuda/cuda_driver.cc:271] failed call to cuInit: CUDA_ERROR_NO_DEVICE: no CUDA-capable device is detected\n",
      "2022-11-05 17:32:07.490337: I tensorflow/stream_executor/cuda/cuda_diagnostics.cc:163] no NVIDIA GPU device is present: /dev/nvidia0 does not exist\n",
      "2022-11-05 17:32:07.490903: I tensorflow/core/platform/cpu_feature_guard.cc:151] This TensorFlow binary is optimized with oneAPI Deep Neural Network Library (oneDNN) to use the following CPU instructions in performance-critical operations:  AVX2 AVX512F FMA\n",
      "To enable them in other operations, rebuild TensorFlow with the appropriate compiler flags.\n"
     ]
    }
   ],
   "source": [
    "X1 = calQ1_443\n",
    "X2 = calQ2_443\n",
    "\n",
    "X1_test = X1[test_index:]\n",
    "X2_test = X2[test_index:]\n",
    "\n",
    "model = tf.keras.models.load_model(model_path);"
   ]
  },
  {
   "cell_type": "code",
   "execution_count": 16,
   "id": "f6a4e419",
   "metadata": {},
   "outputs": [],
   "source": [
    "pred_emd = model.predict((X1_test, X2_test));"
   ]
  },
  {
   "cell_type": "code",
   "execution_count": 17,
   "id": "f275bf3e",
   "metadata": {
    "scrolled": true
   },
   "outputs": [],
   "source": [
    "#Save data for later\n",
    "\n",
    "emd_nn_data = pd.DataFrame(columns = ['truth','pred'])\n",
    "emd_nn_data['truth'] = truth_emd\n",
    "emd_nn_data['pred'] = pred_emd\n",
    "emd_nn_data.to_csv('/ecoderemdvol/paper_plots/emd_nn_data.csv')"
   ]
  },
  {
   "cell_type": "code",
   "execution_count": 18,
   "id": "53a15325",
   "metadata": {},
   "outputs": [],
   "source": [
    "#Load saved data\n",
    "\n",
    "emd_nn_data = pd.read_csv('/ecoderemdvol/paper_plots/emd_nn_data.csv')\n",
    "truth_emd = emd_nn_data['truth'].values\n",
    "pred_emd = emd_nn_data['pred'].values"
   ]
  },
  {
   "cell_type": "code",
   "execution_count": 19,
   "id": "9b32ba39",
   "metadata": {},
   "outputs": [],
   "source": [
    "resolution = 600"
   ]
  },
  {
   "cell_type": "code",
   "execution_count": 20,
   "id": "833e35e3",
   "metadata": {},
   "outputs": [
    {
     "data": {
      "image/png": "[encoded data removed]",
      "text/plain": [
       "<Figure size 432x288 with 1 Axes>"
      ]
     },
     "metadata": {
      "needs_background": "light"
     },
     "output_type": "display_data"
    }
   ],
   "source": [
    "#Plots True EMD and Pred Emd Histogram\n",
    "plt.close()  \n",
    "fig=plt.figure()\n",
    "\n",
    "#plt.xlim(-2.0,2.0)\n",
    "\n",
    "fig=plt.hist(truth_emd, alpha=0.5, bins=np.arange(0, 2.5, 0.05), label='EMD')\n",
    "fig=plt.hist(pred_emd, alpha=0.5, bins=np.arange(0, 2.5, 0.05), label='pred. EMD')\n",
    "fig=plt.xlabel('EMD [GeV]')\n",
    "fig=plt.ylabel('Samples')\n",
    "fig=plt.legend()\n",
    "plt.savefig(os.path.join(img_directory,'testing_EMD.pdf'),dpi=resolution)\n",
    "plt.show()"
   ]
  },
  {
   "cell_type": "code",
   "execution_count": 21,
   "id": "5978d456",
   "metadata": {},
   "outputs": [
    {
     "data": {
      "image/png": "[encoded data removed]",
      "text/plain": [
       "<Figure size 360x360 with 1 Axes>"
      ]
     },
     "metadata": {
      "needs_background": "light"
     },
     "output_type": "display_data"
    }
   ],
   "source": [
    "#Plot Relative Difference\n",
    "plt.close()        \n",
    "rel_diff = (pred_emd[pred_emd>0].flatten()-truth_emd[truth_emd>0].flatten())/truth_emd[truth_emd>0].flatten()\n",
    "fig=plt.figure(figsize=(5,5))\n",
    "fig=plt.hist(rel_diff, bins=np.arange(-0.2, 0.2, 0.01), color='green', label = r'$\\mu$ = {:.3f}, $\\sigma$ = {:.3f}'.format(np.mean(rel_diff), np.std(rel_diff)))\n",
    "fig=plt.xlabel('EMD rel. diff.')\n",
    "fig=plt.ylabel('Samples')\n",
    "fig=plt.legend()\n",
    "plt.savefig(os.path.join(img_directory,'testing_RelD.pdf'),dpi=resolution)\n",
    "plt.show()"
   ]
  },
  {
   "cell_type": "code",
   "execution_count": 22,
   "id": "a0385dfd",
   "metadata": {},
   "outputs": [
    {
     "data": {
      "image/png": "[encoded data removed]",
      "text/plain": [
       "<Figure size 360x360 with 1 Axes>"
      ]
     },
     "metadata": {
      "needs_background": "light"
     },
     "output_type": "display_data"
    }
   ],
   "source": [
    "#Plot True EMD vs Pred Emd Graphic\n",
    "plt.close()        \n",
    "fig=plt.figure(figsize=(5,5)) \n",
    "x_bins = np.arange(0, 2, 0.025)\n",
    "y_bins = np.arange(0, 2, 0.025)\n",
    "plt.hist2d(truth_emd.flatten(), pred_emd.flatten(), bins=[x_bins,y_bins])\n",
    "plt.plot([0, 2.5], [0, 2.5], color='gray', alpha=0.5)\n",
    "plt.xlabel('True EMD [GeV]')\n",
    "plt.ylabel('Pred. EMD [GeV]')\n",
    "plt.savefig(os.path.join(img_directory,'testing_Correl.pdf'),dpi=resolution)\n",
    "plt.show()"
   ]
  },
  {
   "cell_type": "markdown",
   "id": "575dfc57",
   "metadata": {},
   "source": [
    "# Reproduce AE plots"
   ]
  },
  {
   "cell_type": "code",
   "execution_count": 23,
   "id": "d57cf0fd",
   "metadata": {},
   "outputs": [],
   "source": [
    "input_data = load_data('/ecoderemdvol/QK/low_pt_high_eta/8x8_c8_S2_qK_RTL_emd_lphe/verify_input_calQ.csv')"
   ]
  },
  {
   "cell_type": "code",
   "execution_count": 24,
   "id": "9ae2a36e",
   "metadata": {},
   "outputs": [],
   "source": [
    "ae_tele_output = load_data('/ecoderemdvol/QK/low_pt_high_eta/8x8_c8_S2_qK_RTL_tele/verify_decoded_calQ.csv')\n",
    "ae_emd_output  = load_data('/ecoderemdvol/QK/low_pt_high_eta/8x8_c8_S2_qK_RTL_emd_lphe/verify_decoded_calQ.csv')"
   ]
  },
  {
   "cell_type": "code",
   "execution_count": 25,
   "id": "a9111402",
   "metadata": {},
   "outputs": [],
   "source": [
    "stored_emd = pd.read_csv('/ecoderemdvol/paper_plots/ae_emd_data.csv')"
   ]
  },
  {
   "cell_type": "code",
   "execution_count": 26,
   "id": "625d0a73",
   "metadata": {},
   "outputs": [],
   "source": [
    "emd_emd  = stored_emd['emd_nn_loss_emd'].values # EMD between input and output when using emd nn loss\n",
    "tele_emd = stored_emd['tele_loss_emd'].values   # EMD between input and output when using telescope loss"
   ]
  },
  {
   "cell_type": "markdown",
   "id": "99a4d1e3",
   "metadata": {},
   "source": [
    "# Plot EMD[AE_input,AE_output] vs 3 metrics: occupancy and sum of charges, and wafer $\\eta$"
   ]
  },
  {
   "cell_type": "code",
   "execution_count": 27,
   "id": "a32ae50a",
   "metadata": {},
   "outputs": [],
   "source": [
    "#occupancy of trigger cells in wafers with one minimum ionizing particle\n",
    "occupancy_1MT = np.count_nonzero(input_data.reshape(len(input_data),48)>1.,axis=1)\n",
    "\n",
    "#wafer eta of data\n",
    "\n",
    "eta = stored_emd['emd_nn_loss_eta'].values"
   ]
  },
  {
   "cell_type": "code",
   "execution_count": 28,
   "id": "c004dd6e",
   "metadata": {},
   "outputs": [],
   "source": [
    "@numba.jit\n",
    "def normalize(data,rescaleInputToMax=False, sumlog2=True):\n",
    "    maxes =[]\n",
    "    sums =[]\n",
    "    sums_log2=[]\n",
    "    for i in range(len(data)):\n",
    "        maxes.append( data[i].max() )\n",
    "        sums.append( data[i].sum() )\n",
    "        sums_log2.append( 2**(np.floor(np.log2(data[i].sum()))) )\n",
    "        if sumlog2:\n",
    "            data[i] = 1.*data[i]/(sums_log2[-1] if sums_log2[-1] else 1.)\n",
    "        elif rescaleInputToMax:\n",
    "            data[i] = 1.*data[i]/(data[i].max() if data[i].max() else 1.)\n",
    "        else:\n",
    "            data[i] = 1.*data[i]/(data[i].sum() if data[i].sum() else 1.)\n",
    "    if sumlog2:\n",
    "        return  data,np.array(maxes),np.array(sums_log2)\n",
    "    else:\n",
    "        return data,np.array(maxes),np.array(sums)"
   ]
  },
  {
   "cell_type": "code",
   "execution_count": 29,
   "id": "1441e872",
   "metadata": {},
   "outputs": [],
   "source": [
    "# log_10(sum of TC charges/ normalized to units of one minimum ionizing particle)\n",
    "\n",
    "# normalize input charge data\n",
    "# rescaleInputToMax: normalizes charges to maximum charge in module\n",
    "# sumlog2 (default): normalizes charges to 2**floor(log2(sum of charge in module)) where floor is the largest scalar integer: i.e. normalizes to MSB of the sum of charges (MSB here is the most significant bit)\n",
    "# rescaleSum: normalizes charges to sum of charge in module\n",
    "\n",
    "\n",
    "normdata,maxdata,sumdata = normalize(input_data.copy(),rescaleInputToMax=False,sumlog2=True)\n",
    "maxdata = maxdata / 35. # normalize to units of transverse MIPs\n",
    "sumdata = sumdata / 35. # normalize to units of transverse MIPs"
   ]
  },
  {
   "cell_type": "code",
   "execution_count": 30,
   "id": "a07c0271",
   "metadata": {},
   "outputs": [],
   "source": [
    "sum_tc_mipt = (np.log10(sumdata.flatten()))"
   ]
  },
  {
   "cell_type": "code",
   "execution_count": 31,
   "id": "dbed8777",
   "metadata": {},
   "outputs": [],
   "source": [
    "x_labels = [r'occupancy[1 MIP$_{T}$] TCs', r'log10(Sum of TC charges/MIP$_{T}$)',r'$|\\eta|$']\n",
    "legends = ['telescope loss', 'EMD NN loss']\n",
    "image_name = ['occ','sumtc','eta']"
   ]
  },
  {
   "cell_type": "code",
   "execution_count": 44,
   "id": "81e0aebd",
   "metadata": {},
   "outputs": [],
   "source": [
    "df = pd.DataFrame(columns = ['tele_loss_emd','emd_nn_loss_emd','eta','occ','sum_tc'])"
   ]
  },
  {
   "cell_type": "code",
   "execution_count": 45,
   "id": "a4f3319f",
   "metadata": {},
   "outputs": [],
   "source": [
    "df['tele_loss_emd'] = tele_emd\n",
    "df['emd_nn_loss_emd'] = emd_emd\n",
    "df['eta'] = eta\n",
    "df['occ'] = occupancy_1MT\n",
    "df['sum_tc'] = sum_tc_mipt"
   ]
  },
  {
   "cell_type": "code",
   "execution_count": 47,
   "id": "837111ca",
   "metadata": {},
   "outputs": [],
   "source": [
    "df.to_csv('/ecoderemdvol/paper_plots/ae_emd_data.csv')"
   ]
  },
  {
   "cell_type": "code",
   "execution_count": 52,
   "id": "01ce421d",
   "metadata": {},
   "outputs": [
    {
     "data": {
      "image/png": "[encoded data removed]",
      "text/plain": [
       "<Figure size 432x288 with 1 Axes>"
      ]
     },
     "metadata": {
      "needs_background": "light"
     },
     "output_type": "display_data"
    },
    {
     "data": {
      "image/png": "[encoded data removed]",
      "text/plain": [
       "<Figure size 432x288 with 1 Axes>"
      ]
     },
     "metadata": {
      "needs_background": "light"
     },
     "output_type": "display_data"
    },
    {
     "data": {
      "image/png": "[encoded data removed]",
      "text/plain": [
       "<Figure size 432x288 with 1 Axes>"
      ]
     },
     "metadata": {
      "needs_background": "light"
     },
     "output_type": "display_data"
    }
   ],
   "source": [
    "for x_it, x in enumerate((occupancy_1MT, sum_tc_mipt, eta)):\n",
    "    \n",
    "    offsets = [0,0.02]\n",
    "    \n",
    "    for y_it,y in enumerate((tele_emd, emd_emd)):\n",
    "        \n",
    "        nbins=10\n",
    "        stats=True\n",
    "        lims = (x.min(),x.max())\n",
    "        if x_it ==0:\n",
    "            offsets = [0,1]\n",
    "        if x_it == 1:\n",
    "            lims = (0.0,2.5)\n",
    "            plt.ylim(0.01,1.8)\n",
    "            plt.yscale('log')\n",
    "        if x_it == 2:\n",
    "            lims = (1.6,3.0)\n",
    "        median_result = scipy.stats.binned_statistic(x, y, bins=nbins, range=lims, statistic=lambda x: np.quantile(x,0.5))\n",
    "        lo_result     = scipy.stats.binned_statistic(x, y, bins=nbins, range=lims, statistic=lambda x: np.quantile(x,0.5-0.68/2))\n",
    "        hi_result     = scipy.stats.binned_statistic(x, y, bins=nbins, range=lims, statistic=lambda x: np.quantile(x,0.5+0.68/2))\n",
    "        median = np.nan_to_num(median_result.statistic)\n",
    "        hi = np.nan_to_num(hi_result.statistic)\n",
    "        lo = np.nan_to_num(lo_result.statistic)\n",
    "        hie = hi-median\n",
    "        loe = median-lo\n",
    "        bin_edges = median_result.bin_edges\n",
    "        bin_centers = (bin_edges[:-1] + bin_edges[1:])/2.\n",
    "        \n",
    "        off = offsets[y_it]\n",
    "\n",
    "        plt.errorbar(x=bin_centers + off , y=median, yerr=[loe,hie],label = legends[y_it], linewidth = 2, elinewidth = 2)\n",
    "    plt.xlabel(x_labels[x_it])\n",
    "    plt.ylabel('EMD')\n",
    "    plt.legend()\n",
    "    plt.savefig(os.path.join(img_directory,image_name[x_it]+'.pdf'),dpi=resolution)\n",
    "    plt.show()\n",
    "    plt.close()"
   ]
  },
  {
   "cell_type": "code",
   "execution_count": 32,
   "id": "ff591942",
   "metadata": {},
   "outputs": [
    {
     "name": "stdout",
     "output_type": "stream",
     "text": [
      "tar: Removing leading `/' from member names\r\n",
      "/ecoderemdvol/paper_plots/09_05_22/\r\n",
      "/ecoderemdvol/paper_plots/09_05_22/testing_Correl.pdf\r\n",
      "tar: Removing leading `/' from hard link targets\r\n",
      "/ecoderemdvol/paper_plots/09_05_22/testing_EMD.pdf\r\n",
      "/ecoderemdvol/paper_plots/09_05_22/sumtc.pdf\r\n",
      "/ecoderemdvol/paper_plots/09_05_22/TrueEMD.png\r\n",
      "/ecoderemdvol/paper_plots/09_05_22/testing_RelD.pdf\r\n",
      "/ecoderemdvol/paper_plots/09_05_22/occ.pdf\r\n",
      "/ecoderemdvol/paper_plots/09_05_22/eta.pdf\r\n"
     ]
    }
   ],
   "source": [
    "!tar chvfz latest_plots.tar.gz $img_directory"
   ]
  },
  {
   "cell_type": "code",
   "execution_count": null,
   "id": "9843456e",
   "metadata": {},
   "outputs": [],
   "source": []
  }
 ],
 "metadata": {
  "kernelspec": {
   "display_name": "Python 3 (ipykernel)",
   "language": "python",
   "name": "python3"
  },
  "language_info": {
   "codemirror_mode": {
    "name": "ipython",
    "version": 3
   },
   "file_extension": ".py",
   "mimetype": "text/x-python",
   "name": "python",
   "nbconvert_exporter": "python",
   "pygments_lexer": "ipython3",
   "version": "3.9.10"
  }
 },
 "nbformat": 4,
 "nbformat_minor": 5
}
