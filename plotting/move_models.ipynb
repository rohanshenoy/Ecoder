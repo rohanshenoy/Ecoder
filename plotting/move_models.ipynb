{
 "cells": [
  {
   "cell_type": "code",
   "execution_count": 2,
   "id": "7f52e7f2",
   "metadata": {},
   "outputs": [],
   "source": [
    "import awkward as ak\n",
    "import uproot\n",
    "import numpy as np\n",
    "import pandas as pd\n",
    "import os\n",
    "\n",
    "import matplotlib.pyplot as plt\n",
    "import matplotlib as mpl\n",
    "from matplotlib.colors import LogNorm\n",
    "mpl.rcParams['figure.dpi'] = 300\n",
    "\n",
    "import seaborn as sns\n",
    "from scipy import stats\n",
    "\n",
    "from coffea.nanoevents import NanoEventsFactory, BaseSchema"
   ]
  },
  {
   "cell_type": "code",
   "execution_count": 3,
   "id": "3f68a5ef",
   "metadata": {},
   "outputs": [],
   "source": [
    "name_arr = ['lell','leml','lehl','mell','meml','mehl','hell','heml','hehl']"
   ]
  },
  {
   "cell_type": "code",
   "execution_count": 7,
   "id": "2b9a0826",
   "metadata": {},
   "outputs": [],
   "source": [
    "import shutil"
   ]
  },
  {
   "cell_type": "code",
   "execution_count": 8,
   "id": "692e4f71",
   "metadata": {},
   "outputs": [],
   "source": [
    "for name in name_arr:\n",
    "    encoder_file = r'/ecoderemdvol/pu_study/ae_models/{}/8x8_c8_S2_qK_RTL_emd_lphe/encoder_8x8_c8_S2_qK_RTL_emd_lphe.pb'.format(name)\n",
    "    \n",
    "    encoder_target = r'/ecoderemdvol/pu_study/ae_models/files/encoder_{}.pb'.format(name)\n",
    "\n",
    "    shutil.copyfile(encoder_file, encoder_target)\n",
    "    \n",
    "    decoder_file = r'/ecoderemdvol/pu_study/ae_models/{}/8x8_c8_S2_qK_RTL_emd_lphe/decoder_8x8_c8_S2_qK_RTL_emd_lphe.pb'.format(name)\n",
    "    \n",
    "    decoder_target = r'/ecoderemdvol/pu_study/ae_models/files/decoder_{}.pb'.format(name)\n",
    "\n",
    "    shutil.copyfile(decoder_file, decoder_target)"
   ]
  },
  {
   "cell_type": "code",
   "execution_count": null,
   "id": "f466a550",
   "metadata": {},
   "outputs": [],
   "source": []
  }
 ],
 "metadata": {
  "kernelspec": {
   "display_name": "Python 3 (ipykernel)",
   "language": "python",
   "name": "python3"
  },
  "language_info": {
   "codemirror_mode": {
    "name": "ipython",
    "version": 3
   },
   "file_extension": ".py",
   "mimetype": "text/x-python",
   "name": "python",
   "nbconvert_exporter": "python",
   "pygments_lexer": "ipython3",
   "version": "3.9.10"
  }
 },
 "nbformat": 4,
 "nbformat_minor": 5
}
