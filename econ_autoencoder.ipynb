{
 "cells": [
  {
   "cell_type": "code",
   "execution_count": 1,
   "id": "300d1d11",
   "metadata": {
    "scrolled": false
   },
   "outputs": [
    {
     "name": "stderr",
     "output_type": "stream",
     "text": [
      "2023-01-09 19:25:25.603066: I tensorflow/core/platform/cpu_feature_guard.cc:193] This TensorFlow binary is optimized with oneAPI Deep Neural Network Library (oneDNN) to use the following CPU instructions in performance-critical operations:  AVX2 FMA\n",
      "To enable them in other operations, rebuild TensorFlow with the appropriate compiler flags.\n"
     ]
    }
   ],
   "source": [
    "import numpy as np\n",
    "import pandas as pd\n",
    "import argparse\n",
    "import json\n",
    "import pickle\n",
    "import os\n",
    "import numba\n",
    "import matplotlib.pyplot as plt\n",
    "\n",
    "import tensorflow as tf\n",
    "from tensorflow.keras import losses\n",
    "from tensorflow.keras import callbacks\n",
    "from tensorflow import keras as kr\n",
    "import tensorflow.keras.optimizers as opt\n",
    "\n",
    "#import model layers\n",
    "from tensorflow.keras.layers import Layer,Input, Dense, Conv2D, MaxPooling2D, UpSampling2D, Flatten, Conv2DTranspose, Reshape, Activation\n",
    "from tensorflow.keras.models import Model\n",
    "from tensorflow.keras import backend as K\n",
    "from tensorflow.keras.regularizers import l1_l2      \n",
    "from tensorflow.keras.callbacks import EarlyStopping, ModelCheckpoint\n",
    "\n",
    "#import QKeras as qkr\n",
    "from qkeras import QDense, QConv2D, QActivation\n",
    "import json\n",
    "\n",
    "import ot\n",
    "import uproot\n",
    "import awkward as ak\n",
    "from coffea.nanoevents import NanoEventsFactory, BaseSchema"
   ]
  },
  {
   "cell_type": "code",
   "execution_count": 2,
   "id": "11fa92d1",
   "metadata": {},
   "outputs": [],
   "source": [
    "from load_utils import load_data, normalize, unnormalize"
   ]
  },
  {
   "cell_type": "code",
   "execution_count": 280,
   "id": "b5604797",
   "metadata": {},
   "outputs": [
    {
     "name": "stdout",
     "output_type": "stream",
     "text": [
      "(100000, 48)\n"
     ]
    }
   ],
   "source": [
    "data_values, eta_values = load_data(infile = '/Users/physics/hep/ex/code/Ecoder/5Elinks_data.csv',nrows = 100000)"
   ]
  },
  {
   "cell_type": "code",
   "execution_count": 282,
   "id": "78c597c8",
   "metadata": {},
   "outputs": [],
   "source": [
    "# measure TC occupancy\n",
    "occupancy_all = np.count_nonzero(data_values,axis=1) # measure non-zero TCs (should be all)\n",
    "occupancy_all_1MT = np.count_nonzero(data_values>35,axis=1) # measure TCs with charge > 35\n",
    "\n",
    "# normalize input charge data\n",
    "# rescaleInputToMax: normalizes charges to maximum charge in module\n",
    "# sumlog2 (default): normalizes charges to 2**floor(log2(sum of charge in module)) where floor is the largest scalar integer: i.e. normalizes to MSB of the sum of charges (MSB here is the most significant bit)\n",
    "# rescaleSum: normalizes charges to sum of charge in module\n",
    "normdata,maxdata,sumdata = normalize(data_values.copy(),sumlog2=True)\n",
    "maxdata = maxdata / 35. # normalize to units of transverse MIPs\n",
    "sumdata = sumdata / 35. # normalize to units of transverse MIPs"
   ]
  },
  {
   "cell_type": "code",
   "execution_count": 283,
   "id": "b9551d92",
   "metadata": {},
   "outputs": [],
   "source": [
    "networks_by_name = [\n",
    "    {'name':'8x8_c8_S2_qK_RTL_emd_lphe',\n",
    "     'label':'8x8_c[8]_S2_q_emd_lphe',\n",
    "     'arr_key':'8x8',\n",
    "     'isQK':True,\n",
    "     'params':{\n",
    "         'shape':(8,8,1),\n",
    "         'loss':'',\n",
    "         'CNN_layer_nodes':[8],\n",
    "         'CNN_kernel_size':[3],\n",
    "         'CNN_strides':[(2,2)],\n",
    "        },\n",
    "    }\n",
    "]"
   ]
  },
  {
   "cell_type": "code",
   "execution_count": 284,
   "id": "dc5d90d4",
   "metadata": {},
   "outputs": [],
   "source": [
    "def build_model():\n",
    "\n",
    "    # select models to run\n",
    "    \n",
    "    m_to_run = ['8x8_c8_S2_qK_RTL_tele','8x8_c8_S2_qK_RTL_emd_lphe']\n",
    "    models = [n for n in networks_by_name if n['name'] in m_to_run]\n",
    "\n",
    "        \n",
    "    nBits_encod = dict()\n",
    "    nBits_encod  = {'total':  9, 'integer': 1,'keep_negative':0} # 0 to 2 range, 8 bit decimal \n",
    "    nBits_input  = {'total': 10, 'integer': 3, 'keep_negative':1}\n",
    "    nBits_accum  = {'total': 11, 'integer': 3, 'keep_negative':1}\n",
    "    nBits_weight = {'total':  5, 'integer': 1, 'keep_negative':1} # sign bit not included\n",
    "    \n",
    "    for m in models:\n",
    "        if not 'nBits_encod' in m['params'].keys():\n",
    "            m['params'].update({'nBits_encod':nBits_encod})\n",
    "            m['params'].update({'nBits_input':nBits_input})\n",
    "            m['params'].update({'nBits_accum':nBits_accum})\n",
    "            m['params'].update({'nBits_weight':nBits_weight})\n",
    "            \n",
    "    for m in models:\n",
    "        # print nbits for qkeras\n",
    "        if m['isQK']:\n",
    "            print('qKeras model weight {total}, {integer}, {keep_negative}'.format(**m['params']['nBits_weight']))\n",
    "            print('qKeras model input {total}, {integer}, {keep_negative}'.format(**m['params']['nBits_input']))\n",
    "            print('qKeras model accum {total}, {integer}, {keep_negative}'.format(**m['params']['nBits_accum']))\n",
    "            print('qKeras model encod {total}, {integer}, {keep_negative}'.format(**m['params']['nBits_encod']))\n",
    "             \n",
    "    return models"
   ]
  },
  {
   "cell_type": "code",
   "execution_count": 285,
   "id": "4d0539d5",
   "metadata": {
    "scrolled": true
   },
   "outputs": [
    {
     "name": "stdout",
     "output_type": "stream",
     "text": [
      "qKeras model weight 5, 1, 1\n",
      "qKeras model input 10, 3, 1\n",
      "qKeras model accum 11, 3, 1\n",
      "qKeras model encod 9, 1, 0\n"
     ]
    }
   ],
   "source": [
    "models = build_model()"
   ]
  },
  {
   "cell_type": "code",
   "execution_count": 286,
   "id": "fe746fa5",
   "metadata": {},
   "outputs": [
    {
     "name": "stdout",
     "output_type": "stream",
     "text": [
      "/Users/physics/hep/ex/code/Ecoder/custom_training_3/custom_training_3\r\n"
     ]
    }
   ],
   "source": [
    "!pwd"
   ]
  },
  {
   "cell_type": "code",
   "execution_count": 287,
   "id": "6c5eaa8f",
   "metadata": {},
   "outputs": [],
   "source": [
    "orig_dir = os.getcwd()\n",
    "if not os.path.exists('custom_training_3'): os.mkdir('custom_training_3')\n",
    "os.chdir('custom_training_3')"
   ]
  },
  {
   "cell_type": "code",
   "execution_count": 288,
   "id": "fe345dfc",
   "metadata": {},
   "outputs": [
    {
     "name": "stdout",
     "output_type": "stream",
     "text": [
      "/Users/physics/hep/ex/code/Ecoder/custom_training_3/custom_training_3/custom_training_3\r\n"
     ]
    }
   ],
   "source": [
    "!pwd"
   ]
  },
  {
   "cell_type": "code",
   "execution_count": 289,
   "id": "aa1bb766",
   "metadata": {},
   "outputs": [],
   "source": [
    "class MaskLayer(Layer):\n",
    "    def __init__(self,nFilter,arrMask):\n",
    "        super(MaskLayer, self).__init__()\n",
    "        self.nFilter = tf.constant(nFilter)\n",
    "        self.arrayMask = np.array([arrMask])\n",
    "        self.mask = tf.reshape(tf.stack(\n",
    "                        tf.repeat(self.arrayMask,repeats=[nFilter],axis=0),axis=1),\n",
    "                        shape=[-1])      \n",
    "    def call(self, inputs):\n",
    "        return tf.reshape(tf.boolean_mask(inputs,self.mask,axis=1),\n",
    "                          shape=(tf.shape(inputs)[0],48*self.nFilter))\n",
    "    def get_config(self):\n",
    "        config = super().get_config().copy()\n",
    "        config.update({\n",
    "            'nFilter': self.nFilter.numpy(),\n",
    "            'arrMask': self.arrayMask.tolist(),\n",
    "        })\n",
    "        return config"
   ]
  },
  {
   "cell_type": "code",
   "execution_count": 290,
   "id": "44a81c8d",
   "metadata": {},
   "outputs": [],
   "source": [
    "arrange =  np.array([28,29,30,31,0,4,8,12,\n",
    "                     24,25,26,27,1,5,9,13,\n",
    "                     20,21,22,23,2,6,10,14,\n",
    "                     16,17,18,19,3,7,11,15,\n",
    "                     47,43,39,35,35,34,33,32,\n",
    "                     46,42,38,34,39,38,37,36,\n",
    "                     45,41,37,33,43,42,41,40,\n",
    "                     44,40,36,32,47,46,45,44])\n",
    "\n",
    "arrMask= np.array([1,1,1,1,1,1,1,1,\n",
    "                   1,1,1,1,1,1,1,1,\n",
    "                   1,1,1,1,1,1,1,1,\n",
    "                   1,1,1,1,1,1,1,1,\n",
    "                   1,1,1,1,0,0,0,0,\n",
    "                   1,1,1,1,0,0,0,0,\n",
    "                   1,1,1,1,0,0,0,0,\n",
    "                   1,1,1,1,0,0,0,0,])\n",
    "    \n",
    "calQMask=np.array([1,1,1,1,1,1,1,1,\n",
    "                    1,1,1,1,1,1,1,1,\n",
    "                    1,1,1,1,1,1,1,1,\n",
    "                    1,1,1,1,1,1,1,1,\n",
    "                    1,1,1,1,0,0,0,0,\n",
    "                    1,1,1,1,0,0,0,0,\n",
    "                    1,1,1,1,0,0,0,0,\n",
    "                    1,1,1,1,0,0,0,0,])\n"
   ]
  },
  {
   "cell_type": "code",
   "execution_count": 291,
   "id": "3a8be935",
   "metadata": {},
   "outputs": [],
   "source": [
    "def prepInput(normData):\n",
    "    \n",
    "    shape = (8,8,1)\n",
    "    inputdata = normData[:,arrange]\n",
    "\n",
    "    inputdata[:,arrMask==0]=0  #zeros out repeated entries\n",
    "\n",
    "    shaped_data = inputdata.reshape(len(inputdata),shape[0],shape[1],shape[2])\n",
    "    \n",
    "    return shaped_data"
   ]
  },
  {
   "cell_type": "code",
   "execution_count": 292,
   "id": "2c691bb5",
   "metadata": {},
   "outputs": [],
   "source": [
    "remap_8x8 = [4, 12, 20, 28,  5, 13, 21, 29,  6, 14, 22, 30,  7, 15, 23, 31, \n",
    "             24, 25, 26, 27, 16, 17, 18, 19,  8,  9, 10, 11,  0,  1,  2,  3, \n",
    "             59, 51, 43, 35, 58, 50, 42, 34, 57, 49, 41, 33, 56, 48, 40, 32]\n",
    "\n",
    "arrange443 = np.array([0,16, 32,\n",
    "                       1,17, 33,\n",
    "                       2,18, 34,\n",
    "                       3,19, 35,\n",
    "                       4,20, 36,\n",
    "                       5,21, 37,\n",
    "                       6,22, 38,\n",
    "                       7,23, 39,\n",
    "                       8,24, 40,\n",
    "                       9,25, 41,\n",
    "                       10,26, 42,\n",
    "                       11,27, 43,\n",
    "                       12,28, 44,\n",
    "                       13,29, 45,\n",
    "                       14,30, 46,\n",
    "                       15,31, 47])\n",
    "\n"
   ]
  },
  {
   "cell_type": "code",
   "execution_count": 293,
   "id": "548d01f4",
   "metadata": {},
   "outputs": [],
   "source": [
    "model_path='/Users/physics/hep/ex/code/Ecoder/ae_mse_lphe.h5'\n",
    "emd_model = tf.keras.models.load_model(model_path)\n",
    "emd_model.trainable = False\n",
    "\n",
    "def map_881_to_443(x):\n",
    "    y = tf.reshape(x, (-1, 64))\n",
    "    y = tf.gather(y, remap_8x8, axis=1)\n",
    "    y = tf.gather(y, arrange443, axis=1)\n",
    "    y = tf.reshape(y, (-1, 4, 4, 3))\n",
    "    return y"
   ]
  },
  {
   "cell_type": "code",
   "execution_count": 294,
   "id": "4d8027d2",
   "metadata": {},
   "outputs": [
    {
     "name": "stdout",
     "output_type": "stream",
     "text": [
      "Training shape\n",
      "(80000, 8, 8, 1)\n",
      "Validation shape\n",
      "(20000, 8, 8, 1)\n"
     ]
    }
   ],
   "source": [
    "shaped_data = prepInput(normdata)\n",
    "\n",
    "def split(shaped_data, validation_frac=0.2,randomize=False):\n",
    "    N = round(len(shaped_data)*validation_frac)\n",
    "    if randomize:\n",
    "        val_index = np.random.choice(shaped_data.shape[0], N, replace=False) # randomly select 25% entries\n",
    "        full_index = np.array(range(0,len(shaped_data))) # select the indices of the other 75%\n",
    "        train_index = np.logical_not(np.in1d(full_index,val_index))\n",
    "\n",
    "        val_input = shaped_data[val_index]\n",
    "        train_input = shaped_data[train_index]\n",
    "    else:\n",
    "        val_input = shaped_data[:N]\n",
    "        train_input = shaped_data[N:]\n",
    "        val_index = np.arange(N)\n",
    "        train_index = np.arange(len(shaped_data))[N:]\n",
    "\n",
    "    print('Training shape')\n",
    "    print(train_input.shape)\n",
    "    print('Validation shape')\n",
    "    print(val_input.shape)\n",
    "    return val_input,train_input,val_index,train_index\n",
    "\n",
    "val_input, train_input, val_ind, train_ind = split(shaped_data)\n",
    "\n",
    "train_sum = sumdata[train_ind]\n",
    "val_sum = sumdata[val_ind]"
   ]
  },
  {
   "cell_type": "code",
   "execution_count": 295,
   "id": "a5fd1bc1",
   "metadata": {},
   "outputs": [],
   "source": [
    "encoded_dim = 16\n",
    "\n",
    "CNN_layer_nodes   = [8]\n",
    "CNN_kernel_size   = [3]\n",
    "CNN_padding       = ['same']\n",
    "CNN_strides       = [(2,2)]\n",
    "CNN_pool          = [False]\n",
    "Dense_layer_nodes = [] #does not include encoded layer\n",
    "channels_first    = False"
   ]
  },
  {
   "cell_type": "code",
   "execution_count": 296,
   "id": "15467f6a",
   "metadata": {},
   "outputs": [],
   "source": [
    "def emd_loss(y_true_cal,y_pred_cal):\n",
    "    \n",
    "    y_pred_443 = map_881_to_443(y_pred_cal)\n",
    "    y_true_443 = map_881_to_443(y_true_cal)\n",
    "    return emd_model([y_true_443, y_pred_443])"
   ]
  },
  {
   "cell_type": "code",
   "execution_count": 297,
   "id": "c0417969",
   "metadata": {},
   "outputs": [],
   "source": [
    "inputs = Input(shape=(8,8,1))\n",
    "\n",
    "x = inputs\n",
    "\n",
    "for i,n_nodes in enumerate(CNN_layer_nodes):\n",
    "\n",
    "    x = Conv2D(n_nodes, CNN_kernel_size[i], activation='relu', strides=CNN_strides[i], padding=CNN_padding[i])(x)\n",
    "\n",
    "shape = K.int_shape(x)\n",
    "\n",
    "x = Flatten()(x)\n",
    "\n",
    "encodedLayer = Dense(encoded_dim, activation='relu',name='encoded_vector')(x)\n",
    "\n",
    "\n",
    "# Instantiate Encoder Model\n",
    "encoder = Model(inputs, encodedLayer, name='encoder')\n",
    "\n",
    "encoded_inputs = Input(shape=(encoded_dim,), name='decoder_input')\n",
    "\n",
    "x = encoded_inputs\n",
    "\n",
    "#decoder dense nodes\n",
    "\n",
    "x = Dense(shape[1] * shape[2] * shape[3], activation='relu')(x)\n",
    "x = Reshape((shape[1], shape[2], shape[3]))(x)\n",
    "\n",
    "for i,n_nodes in enumerate(CNN_layer_nodes):\n",
    "\n",
    "    x = Conv2DTranspose(n_nodes, CNN_kernel_size[i], activation='relu', strides=CNN_strides[i],padding=CNN_padding[i])(x)\n",
    "\n",
    "x = Conv2DTranspose(filters=(8,8,1)[2],kernel_size=CNN_kernel_size[0],padding='same')(x)\n",
    "\n",
    "outputs= Activation('sigmoid', name='decoder_output')(x)\n",
    "\n",
    "decoder = Model(encoded_inputs, outputs, name='decoder')\n",
    "\n",
    "autoencoder = Model(inputs, decoder(encoder(inputs)), name='autoencoder')"
   ]
  },
  {
   "cell_type": "code",
   "execution_count": 298,
   "id": "de75ca57",
   "metadata": {},
   "outputs": [],
   "source": [
    "autoencoder.compile(optimizer='adam', loss=emd_loss)"
   ]
  },
  {
   "cell_type": "code",
   "execution_count": 299,
   "id": "69b6460c",
   "metadata": {},
   "outputs": [
    {
     "name": "stdout",
     "output_type": "stream",
     "text": [
      "Epoch 1/20\n",
      "1600/1600 [==============================] - 17s 10ms/step - loss: 1086.5653 - val_loss: 3.3486\n",
      "Epoch 2/20\n",
      "1600/1600 [==============================] - 16s 10ms/step - loss: 542.6600 - val_loss: 2.7112\n",
      "Epoch 3/20\n",
      "1600/1600 [==============================] - 16s 10ms/step - loss: 456.4640 - val_loss: 2.4413\n",
      "Epoch 4/20\n",
      "1600/1600 [==============================] - 16s 10ms/step - loss: 414.3969 - val_loss: 2.2515\n",
      "Epoch 5/20\n",
      "1600/1600 [==============================] - 16s 10ms/step - loss: 385.5162 - val_loss: 2.1082\n",
      "Epoch 6/20\n",
      "1600/1600 [==============================] - 16s 10ms/step - loss: 363.1803 - val_loss: 1.9845\n",
      "Epoch 7/20\n",
      "1600/1600 [==============================] - 16s 10ms/step - loss: 346.5132 - val_loss: 1.9471\n",
      "Epoch 8/20\n",
      "1600/1600 [==============================] - 16s 10ms/step - loss: 335.2032 - val_loss: 1.8693\n",
      "Epoch 9/20\n",
      "1600/1600 [==============================] - 19s 12ms/step - loss: 324.7178 - val_loss: 1.7761\n",
      "Epoch 10/20\n",
      "1600/1600 [==============================] - 19s 12ms/step - loss: 317.4952 - val_loss: 1.9295\n",
      "Epoch 11/20\n",
      "1600/1600 [==============================] - 16s 10ms/step - loss: 310.5830 - val_loss: 1.6888\n",
      "Epoch 12/20\n",
      "1600/1600 [==============================] - 17s 10ms/step - loss: 305.3280 - val_loss: 1.6497\n",
      "Epoch 13/20\n",
      "1600/1600 [==============================] - 17s 11ms/step - loss: 300.8485 - val_loss: 1.7169\n",
      "Epoch 14/20\n",
      "1600/1600 [==============================] - 16s 10ms/step - loss: 296.0383 - val_loss: 1.6476\n",
      "Epoch 15/20\n",
      "1600/1600 [==============================] - 15s 9ms/step - loss: 292.8871 - val_loss: 1.6000\n",
      "Epoch 16/20\n",
      "1600/1600 [==============================] - 15s 9ms/step - loss: 290.0107 - val_loss: 1.5721\n",
      "Epoch 17/20\n",
      "1600/1600 [==============================] - 15s 9ms/step - loss: 287.7095 - val_loss: 1.5454\n",
      "Epoch 18/20\n",
      "1600/1600 [==============================] - 16s 10ms/step - loss: 284.7119 - val_loss: 1.5285\n",
      "Epoch 19/20\n",
      "1600/1600 [==============================] - 16s 10ms/step - loss: 281.5457 - val_loss: 1.5356\n",
      "Epoch 20/20\n",
      "1600/1600 [==============================] - 17s 11ms/step - loss: 279.9332 - val_loss: 1.5049\n"
     ]
    }
   ],
   "source": [
    "n_epochs=20\n",
    "\n",
    "es = callbacks.EarlyStopping(monitor='val_loss', mode='min', verbose=1, patience=30)\n",
    "\n",
    "history = autoencoder.fit(train_input,\n",
    "                          train_input,\n",
    "                          sample_weight = np.square(train_sum),\n",
    "                          epochs=n_epochs,\n",
    "                          batch_size=50,\n",
    "                          validation_data=(val_input,val_input),\n",
    "                          callbacks=[es])"
   ]
  },
  {
   "cell_type": "code",
   "execution_count": 300,
   "id": "e5cf5158",
   "metadata": {},
   "outputs": [],
   "source": [
    "def plot_loss(history):\n",
    "    plt.figure(figsize=(8,6))\n",
    "    plt.yscale('log')\n",
    "    plt.plot(history.history['loss'])\n",
    "    plt.plot(history.history['val_loss'])\n",
    "    plt.title('Model loss')\n",
    "    plt.ylabel('Loss')\n",
    "    plt.xlabel('Epoch')\n",
    "    plt.legend(['Train', 'Test'], loc='upper right')\n",
    "    plt.savefig(\"history.pdf\")\n",
    "    plt.show()\n",
    "    plt.close()\n",
    "    plt.clf()\n",
    "    return"
   ]
  },
  {
   "cell_type": "code",
   "execution_count": 301,
   "id": "863e7937",
   "metadata": {},
   "outputs": [
    {
     "data": {
      "image/png": "[encoded data removed]",
      "text/plain": [
       "<Figure size 800x600 with 1 Axes>"
      ]
     },
     "metadata": {},
     "output_type": "display_data"
    },
    {
     "data": {
      "text/plain": [
       "<Figure size 640x480 with 0 Axes>"
      ]
     },
     "metadata": {},
     "output_type": "display_data"
    }
   ],
   "source": [
    "plot_loss(history)"
   ]
  },
  {
   "cell_type": "code",
   "execution_count": 302,
   "id": "da61d1d9",
   "metadata": {},
   "outputs": [],
   "source": [
    "def invertArrange(arrange,arrMask=[],calQMask=[]):\n",
    "    remap =[]\n",
    "    hashmap = {}  ## cell:index mapping\n",
    "    ##Valid arrange check\n",
    "    if not np.all(np.unique(arrange)==np.arange(48)):\n",
    "        raise ValueError(\"Found cell location with number > 48. Please check your arrange:\",arrange)\n",
    "    foundDuplicateCharge = False\n",
    "    if len(arrMask)==0:\n",
    "        if len(arrange)>len(np.unique(arrange)):\n",
    "            foundDuplicateCharge=True\n",
    "    else:\n",
    "        if len(arrange[arrMask==1])>len(np.unique(arrange[arrMask==1])):\n",
    "            foundDuplicateCharge=True\n",
    "\n",
    "    if foundDuplicateCharge and len(calQMask)==0:\n",
    "        raise ValueError(\"Found duplicated charge arrangement, but did not specify calQmask\")  \n",
    "    if len(calQMask)>0 and np.count_nonzero(calQMask)!=48:\n",
    "        raise ValueError(\"calQmask must indicate 48 calQ \")  \n",
    "\n",
    "    for i in range(len(arrange)):\n",
    "        if len(arrMask)>0 :\n",
    "            ## fill hashmap only if arrMask allows it\n",
    "            if arrMask[i]==1:   \n",
    "                if(foundDuplicateCharge):\n",
    "                    ## fill hashmap only if calQMask allows it\n",
    "                    if calQMask[i]==1: hashmap[arrange[i]]=i                    \n",
    "                else:\n",
    "                    hashmap[arrange[i]]=i                    \n",
    "        else:\n",
    "            hashmap[arrange[i]]=i\n",
    "    ## Always map to 48 calQ orders\n",
    "    for i in range(len(np.unique(arrange))):\n",
    "        remap.append(hashmap[i])\n",
    "    return np.array(remap)\n",
    "\n",
    "## remap input/output of autoencoder into CALQs orders\n",
    "def mapToCalQ(x):\n",
    "    if len(arrange) > 0:\n",
    "        remap   = invertArrange(arrange,arrMask,calQMask)\n",
    "        if len(arrMask)>0:\n",
    "            imgSize =(8,8,1)[0] *(8,8,1)[1]* (8,8,1)[2]\n",
    "            x = x.reshape(len(x),imgSize)\n",
    "            x[:,arrMask==0]=0 ## apply arrMask\n",
    "            return x[:,remap]             ## map to calQ \n",
    "        else:\n",
    "            return x.reshape(len(x),48)[:,remap]\n",
    "    else:\n",
    "        return x.reshape(len(x),48)\n",
    "\n",
    "\n",
    "def predict(x):\n",
    "    decoded_Q = predict(x)\n",
    "    encoded_Q = self.encoder.predict(x)\n",
    "    encoded_Q = np.reshape(encoded_Q, (len(encoded_Q), 16, 1))\n",
    "    return x,decoded_Q, encoded_Q"
   ]
  },
  {
   "cell_type": "code",
   "execution_count": 303,
   "id": "715d2a59",
   "metadata": {},
   "outputs": [],
   "source": [
    "history = autoencoder.history"
   ]
  },
  {
   "cell_type": "code",
   "execution_count": 304,
   "id": "b14697f1",
   "metadata": {},
   "outputs": [
    {
     "name": "stderr",
     "output_type": "stream",
     "text": [
      "2023-01-09 20:44:08.077754: I tensorflow/core/grappler/devices.cc:75] Number of eligible GPUs (core count >= 8, compute capability >= 0.0): 0 (Note: TensorFlow was not compiled with CUDA or ROCm support)\n",
      "2023-01-09 20:44:08.077864: I tensorflow/core/grappler/clusters/single_machine.cc:358] Starting new session\n",
      "2023-01-09 20:44:08.141518: I tensorflow/core/grappler/devices.cc:75] Number of eligible GPUs (core count >= 8, compute capability >= 0.0): 0 (Note: TensorFlow was not compiled with CUDA or ROCm support)\n",
      "2023-01-09 20:44:08.141590: I tensorflow/core/grappler/clusters/single_machine.cc:358] Starting new session\n",
      "2023-01-09 20:44:08.223774: I tensorflow/core/grappler/devices.cc:75] Number of eligible GPUs (core count >= 8, compute capability >= 0.0): 0 (Note: TensorFlow was not compiled with CUDA or ROCm support)\n",
      "2023-01-09 20:44:08.223840: I tensorflow/core/grappler/clusters/single_machine.cc:358] Starting new session\n",
      "2023-01-09 20:44:08.367640: I tensorflow/core/grappler/devices.cc:75] Number of eligible GPUs (core count >= 8, compute capability >= 0.0): 0 (Note: TensorFlow was not compiled with CUDA or ROCm support)\n",
      "2023-01-09 20:44:08.367705: I tensorflow/core/grappler/clusters/single_machine.cc:358] Starting new session\n"
     ]
    },
    {
     "name": "stdout",
     "output_type": "stream",
     "text": [
      "1 encoder unique weights 72\n",
      "2 decoder unique weights 2048\n",
      "1 conv2d_33 unique weights 72\n",
      "2 no weights\n",
      "3 encoded_vector unique weights 2048\n",
      "1 dense_33 unique weights 2048\n",
      "2 no weights\n",
      "3 conv2d_transpose_66 unique weights 576\n",
      "4 conv2d_transpose_67 unique weights 72\n",
      "5 no weights\n"
     ]
    },
    {
     "data": {
      "text/plain": [
       "<Figure size 800x600 with 0 Axes>"
      ]
     },
     "metadata": {},
     "output_type": "display_data"
    },
    {
     "data": {
      "text/plain": [
       "<Figure size 800x600 with 0 Axes>"
      ]
     },
     "metadata": {},
     "output_type": "display_data"
    },
    {
     "data": {
      "text/plain": [
       "<Figure size 800x600 with 0 Axes>"
      ]
     },
     "metadata": {},
     "output_type": "display_data"
    }
   ],
   "source": [
    "with open('./history.pkl', 'wb') as file_pi:\n",
    "    pickle.dump(history.history, file_pi)\n",
    "\n",
    "def save_models(autoencoder):\n",
    "    from utils import graph\n",
    "    \n",
    "    name = 'weighted_emd'\n",
    "\n",
    "    json_string = autoencoder.to_json()\n",
    "    encoder = autoencoder.get_layer(\"encoder\")\n",
    "    decoder = autoencoder.get_layer(\"decoder\")\n",
    "    with open('./%s.json'%name,'w') as f:        f.write(autoencoder.to_json())\n",
    "    with open('./%s.json'%(\"encoder_\"+name),'w') as f:            f.write(encoder.to_json())\n",
    "    with open('./%s.json'%(\"decoder_\"+name),'w') as f:            f.write(decoder.to_json())\n",
    "    autoencoder.save_weights('%s.hdf5'%name)\n",
    "    encoder.save_weights('%s.hdf5'%(\"encoder_\"+name))\n",
    "    decoder.save_weights('%s.hdf5'%(\"decoder_\"+name))\n",
    "    graph.write_frozen_graph(encoder,'encoder_'+name+'.pb')\n",
    "    graph.write_frozen_graph(encoder,'encoder_'+name+'.pb.ascii','./',True)\n",
    "    graph.write_frozen_graph(decoder,'decoder_'+name+'.pb')\n",
    "    graph.write_frozen_graph(decoder,'decoder_'+name+'.pb.ascii','./',True)\n",
    "\n",
    "    graph.plot_weights(autoencoder)\n",
    "    graph.plot_weights(encoder)\n",
    "    graph.plot_weights(decoder)\n",
    "\n",
    "save_models(autoencoder)   "
   ]
  },
  {
   "cell_type": "code",
   "execution_count": 314,
   "id": "32fe17de",
   "metadata": {},
   "outputs": [
    {
     "name": "stdout",
     "output_type": "stream",
     "text": [
      "3125/3125 [==============================] - 3s 1ms/step\n"
     ]
    }
   ],
   "source": [
    "cnn_deQ = autoencoder.predict(shaped_data)"
   ]
  },
  {
   "cell_type": "code",
   "execution_count": 315,
   "id": "e9a2b20f",
   "metadata": {},
   "outputs": [
    {
     "name": "stdout",
     "output_type": "stream",
     "text": [
      "inputQ shape\n",
      "(100000, 48)\n",
      "inputcalQ shape\n",
      "(100000, 48)\n"
     ]
    }
   ],
   "source": [
    "# shape = (N,48) in CALQ order\n",
    "input_calQ = mapToCalQ(shaped_data)\n",
    "output_calQ = mapToCalQ(cnn_deQ)   # shape = (N,48) in CALQ order\n",
    "print('inputQ shape')\n",
    "print(input_calQ.shape)\n",
    "print('inputcalQ shape')\n",
    "print(output_calQ.shape)"
   ]
  },
  {
   "cell_type": "code",
   "execution_count": 307,
   "id": "3403e721",
   "metadata": {},
   "outputs": [],
   "source": [
    "val_max = maxdata[val_ind]\n",
    "val_sum = sumdata[val_ind]\n",
    "val_eta = eta_values[val_ind]"
   ]
  },
  {
   "cell_type": "code",
   "execution_count": 316,
   "id": "0ce416fd",
   "metadata": {},
   "outputs": [
    {
     "name": "stdout",
     "output_type": "stream",
     "text": [
      "Restore normalization\n"
     ]
    }
   ],
   "source": [
    "print('Restore normalization')\n",
    "\n",
    "input_calQ =  unnormalize(input_calQ.copy(),sumdata)\n",
    "output_calQ =  unnormalize(output_calQ.copy(),sumdata)"
   ]
  },
  {
   "cell_type": "code",
   "execution_count": 309,
   "id": "51743ad0",
   "metadata": {},
   "outputs": [],
   "source": [
    "from utils.metrics import emd"
   ]
  },
  {
   "cell_type": "code",
   "execution_count": 317,
   "id": "b0331416",
   "metadata": {},
   "outputs": [],
   "source": [
    "indices = range(0,(len(input_calQ)))\n",
    "        \n",
    "emd_values = np.array([emd(input_calQ[i],output_calQ[j]) for i, j in zip(indices,indices)])"
   ]
  },
  {
   "cell_type": "code",
   "execution_count": 318,
   "id": "9e25ef4c",
   "metadata": {},
   "outputs": [],
   "source": [
    "import scipy\n",
    "\n",
    "from scipy import stats, optimize, interpolate"
   ]
  },
  {
   "cell_type": "code",
   "execution_count": 319,
   "id": "20dcf576",
   "metadata": {},
   "outputs": [
    {
     "data": {
      "text/plain": [
       "(array([2.2030e+03, 1.5661e+04, 2.8088e+04, 2.8079e+04, 1.6764e+04,\n",
       "        6.7910e+03, 2.0240e+03, 3.4300e+02, 4.1000e+01, 6.0000e+00]),\n",
       " array([0.24405026, 0.49172583, 0.7394014 , 0.98707697, 1.23475254,\n",
       "        1.48242812, 1.73010369, 1.97777926, 2.22545483, 2.4731304 ,\n",
       "        2.72080597]),\n",
       " <BarContainer object of 10 artists>)"
      ]
     },
     "execution_count": 319,
     "metadata": {},
     "output_type": "execute_result"
    },
    {
     "data": {
      "image/png": "[encoded data removed]",
      "text/plain": [
       "<Figure size 640x480 with 1 Axes>"
      ]
     },
     "metadata": {},
     "output_type": "display_data"
    }
   ],
   "source": [
    "plt.hist(emd_values)"
   ]
  },
  {
   "cell_type": "code",
   "execution_count": 321,
   "id": "f0ffa81c",
   "metadata": {},
   "outputs": [
    {
     "data": {
      "text/plain": [
       "<ErrorbarContainer object of 3 artists>"
      ]
     },
     "execution_count": 321,
     "metadata": {},
     "output_type": "execute_result"
    },
    {
     "data": {
      "image/png": "[encoded data removed]",
      "text/plain": [
       "<Figure size 640x480 with 1 Axes>"
      ]
     },
     "metadata": {},
     "output_type": "display_data"
    }
   ],
   "source": [
    "x=eta_values\n",
    "y=emd_values\n",
    "\n",
    "nbins=10\n",
    "lims=None\n",
    "stats=True\n",
    "if lims==None: lims = (x.min(),x.max())\n",
    "median_result = scipy.stats.binned_statistic(x, y, bins=nbins, range=lims, statistic=lambda x: np.quantile(x,0.5))\n",
    "lo_result     = scipy.stats.binned_statistic(x, y, bins=nbins, range=lims, statistic=lambda x: np.quantile(x,0.5-0.68/2))\n",
    "hi_result     = scipy.stats.binned_statistic(x, y, bins=nbins, range=lims, statistic=lambda x: np.quantile(x,0.5+0.68/2))\n",
    "median = np.nan_to_num(median_result.statistic)\n",
    "hi = np.nan_to_num(hi_result.statistic)\n",
    "lo = np.nan_to_num(lo_result.statistic)\n",
    "hie = hi-median\n",
    "loe = median-lo\n",
    "bin_edges = median_result.bin_edges\n",
    "bin_centers = (bin_edges[:-1] + bin_edges[1:])/2.\n",
    "\n",
    "plt.errorbar(x=bin_centers, y=median, yerr=[loe,hie], label='emd v eta')"
   ]
  },
  {
   "cell_type": "code",
   "execution_count": 323,
   "id": "a14fffb8",
   "metadata": {},
   "outputs": [
    {
     "data": {
      "text/plain": [
       "<ErrorbarContainer object of 3 artists>"
      ]
     },
     "execution_count": 323,
     "metadata": {},
     "output_type": "execute_result"
    },
    {
     "data": {
      "image/png": "[encoded data removed]",
      "text/plain": [
       "<Figure size 640x480 with 1 Axes>"
      ]
     },
     "metadata": {},
     "output_type": "display_data"
    }
   ],
   "source": [
    "x=eta_values\n",
    "y=emd_values*sumdata*sumdata\n",
    "\n",
    "nbins=10\n",
    "lims=None\n",
    "stats=True\n",
    "if lims==None: lims = (x.min(),x.max())\n",
    "median_result = scipy.stats.binned_statistic(x, y, bins=nbins, range=lims, statistic=lambda x: np.quantile(x,0.5))\n",
    "lo_result     = scipy.stats.binned_statistic(x, y, bins=nbins, range=lims, statistic=lambda x: np.quantile(x,0.5-0.68/2))\n",
    "hi_result     = scipy.stats.binned_statistic(x, y, bins=nbins, range=lims, statistic=lambda x: np.quantile(x,0.5+0.68/2))\n",
    "median = np.nan_to_num(median_result.statistic)\n",
    "hi = np.nan_to_num(hi_result.statistic)\n",
    "lo = np.nan_to_num(lo_result.statistic)\n",
    "hie = hi-median\n",
    "loe = median-lo\n",
    "bin_edges = median_result.bin_edges\n",
    "bin_centers = (bin_edges[:-1] + bin_edges[1:])/2.\n",
    "\n",
    "plt.errorbar(x=bin_centers, y=median, yerr=[loe,hie], label='emd v eta')"
   ]
  },
  {
   "cell_type": "code",
   "execution_count": 258,
   "id": "47c509bb",
   "metadata": {},
   "outputs": [],
   "source": [
    "occupancy_0MT = np.count_nonzero(input_calQ,axis=1)"
   ]
  },
  {
   "cell_type": "code",
   "execution_count": 259,
   "id": "f7630f7d",
   "metadata": {},
   "outputs": [
    {
     "data": {
      "text/plain": [
       "<ErrorbarContainer object of 3 artists>"
      ]
     },
     "execution_count": 259,
     "metadata": {},
     "output_type": "execute_result"
    },
    {
     "data": {
      "image/png": "[encoded data removed]",
      "text/plain": [
       "<Figure size 640x480 with 1 Axes>"
      ]
     },
     "metadata": {},
     "output_type": "display_data"
    }
   ],
   "source": [
    "x=occupancy_0MT\n",
    "y=emd_values\n",
    "\n",
    "nbins=10\n",
    "lims=None\n",
    "stats=True\n",
    "if lims==None: lims = (x.min(),x.max())\n",
    "median_result = scipy.stats.binned_statistic(x, y, bins=nbins, range=lims, statistic=lambda x: np.quantile(x,0.5))\n",
    "lo_result     = scipy.stats.binned_statistic(x, y, bins=nbins, range=lims, statistic=lambda x: np.quantile(x,0.5-0.68/2))\n",
    "hi_result     = scipy.stats.binned_statistic(x, y, bins=nbins, range=lims, statistic=lambda x: np.quantile(x,0.5+0.68/2))\n",
    "median = np.nan_to_num(median_result.statistic)\n",
    "hi = np.nan_to_num(hi_result.statistic)\n",
    "lo = np.nan_to_num(lo_result.statistic)\n",
    "hie = hi-median\n",
    "loe = median-lo\n",
    "bin_edges = median_result.bin_edges\n",
    "bin_centers = (bin_edges[:-1] + bin_edges[1:])/2.\n",
    "\n",
    "plt.errorbar(x=bin_centers, y=median, yerr=[loe,hie], label='emd v eta')"
   ]
  },
  {
   "cell_type": "code",
   "execution_count": null,
   "id": "88ca8404",
   "metadata": {},
   "outputs": [],
   "source": []
  }
 ],
 "metadata": {
  "kernelspec": {
   "display_name": "Python 3 (ipykernel)",
   "language": "python",
   "name": "python3"
  },
  "language_info": {
   "codemirror_mode": {
    "name": "ipython",
    "version": 3
   },
   "file_extension": ".py",
   "mimetype": "text/x-python",
   "name": "python",
   "nbconvert_exporter": "python",
   "pygments_lexer": "ipython3",
   "version": "3.10.6"
  }
 },
 "nbformat": 4,
 "nbformat_minor": 5
}
