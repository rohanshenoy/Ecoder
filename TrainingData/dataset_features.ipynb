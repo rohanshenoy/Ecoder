{
 "cells": [
  {
   "cell_type": "code",
   "execution_count": 1,
   "id": "b0b0d18f",
   "metadata": {},
   "outputs": [],
   "source": [
    "import awkward as ak\n",
    "import uproot\n",
    "import numpy as np\n",
    "import pandas as pd\n",
    "import os\n",
    "\n",
    "import matplotlib.pyplot as plt"
   ]
  },
  {
   "cell_type": "code",
   "execution_count": 2,
   "id": "b47126a2",
   "metadata": {},
   "outputs": [],
   "source": [
    "from coffea.nanoevents import NanoEventsFactory, BaseSchema"
   ]
  },
  {
   "cell_type": "code",
   "execution_count": 3,
   "id": "cd3e9929",
   "metadata": {},
   "outputs": [],
   "source": [
    "gen_pt_all = []\n",
    "gen_eta_all = []"
   ]
  },
  {
   "cell_type": "code",
   "execution_count": 6,
   "id": "1cf53c5c",
   "metadata": {},
   "outputs": [],
   "source": [
    "for filename in os.listdir('/ecoderemdvol/EleGun/EPGun-PU200/data/hgcal_ntuples/0000/'):\n",
    "    f = os.path.join('/ecoderemdvol/EleGun/EPGun-PU200/data/hgcal_ntuples/0000/', filename)\n",
    "    # checking if it is a file\n",
    "    if os.path.isfile(f):\n",
    "        signaldomain = f\n",
    "        signalfile = uproot.open(signaldomain)\n",
    "        \n",
    "        events = NanoEventsFactory.from_root(\n",
    "            signalfile,\n",
    "            treepath='FloatingpointThreshold0DummyHistomaxGenmatchGenclustersntuple/HGCalTriggerNtuple',\n",
    "            #entry_stop=10,\n",
    "            #metadata={\"dataset\": \"llp\"},\n",
    "            schemaclass=BaseSchema,\n",
    "        ).events()\n",
    "        \n",
    "        gen_pt = events.gen_pt[:,0]\n",
    "        gen_eta = events.gen_eta[:,0]    \n",
    "        \n",
    "        gen_pt_all = np.append(gen_pt_all,gen_pt)\n",
    "        gen_eta_all = np.append(gen_eta_all,gen_eta)"
   ]
  },
  {
   "cell_type": "code",
   "execution_count": 8,
   "id": "bb9da33c",
   "metadata": {},
   "outputs": [],
   "source": [
    "signaldomain = '/ecoderemdvol/EleGun/EPGun-PU200/data/hgcal_ntuples/1/ntuple_10.root'\n",
    "signalfile = uproot.open(signaldomain)"
   ]
  },
  {
   "cell_type": "code",
   "execution_count": 9,
   "id": "6126d62f",
   "metadata": {},
   "outputs": [],
   "source": [
    "events = NanoEventsFactory.from_root(\n",
    "    signalfile,\n",
    "    treepath='FloatingpointThreshold0DummyHistomaxGenmatchGenclustersntuple/HGCalTriggerNtuple',\n",
    "    #entry_stop=10,\n",
    "    #metadata={\"dataset\": \"llp\"},\n",
    "    schemaclass=BaseSchema,\n",
    ").events()"
   ]
  },
  {
   "cell_type": "code",
   "execution_count": 10,
   "id": "59856505",
   "metadata": {},
   "outputs": [],
   "source": [
    "gen_pt = events.gen_pt[:,0]\n",
    "gen_eta = events.gen_eta[:,0]"
   ]
  },
  {
   "cell_type": "code",
   "execution_count": 11,
   "id": "3be71e26",
   "metadata": {},
   "outputs": [],
   "source": [
    "gen_pt_all = np.append(gen_pt_all,gen_pt)\n",
    "gen_eta_all = np.append(gen_eta_all,gen_eta)"
   ]
  },
  {
   "cell_type": "code",
   "execution_count": 18,
   "id": "2eba098d",
   "metadata": {},
   "outputs": [
    {
     "data": {
      "text/plain": [
       "11012"
      ]
     },
     "execution_count": 18,
     "metadata": {},
     "output_type": "execute_result"
    }
   ],
   "source": [
    "count = np.count_nonzero(gen_pt_all < 35)\n",
    "count"
   ]
  },
  {
   "cell_type": "code",
   "execution_count": 13,
   "id": "9bf61a92",
   "metadata": {
    "scrolled": true
   },
   "outputs": [
    {
     "data": {
      "text/plain": [
       "<matplotlib.lines.Line2D at 0x7fba14d3e610>"
      ]
     },
     "execution_count": 13,
     "metadata": {},
     "output_type": "execute_result"
    },
    {
     "data": {
      "image/png": "[encoded data removed]",
      "text/plain": [
       "<Figure size 432x288 with 1 Axes>"
      ]
     },
     "metadata": {
      "needs_background": "light"
     },
     "output_type": "display_data"
    }
   ],
   "source": [
    "plt.hist(gen_pt_all,100);\n",
    "plt.xlabel('gen_pt')\n",
    "plt.ylabel('# events')\n",
    "plt.axvline(x = 35,color = 'red')"
   ]
  },
  {
   "cell_type": "code",
   "execution_count": 19,
   "id": "70e371be",
   "metadata": {},
   "outputs": [
    {
     "data": {
      "text/plain": [
       "<matplotlib.lines.Line2D at 0x7fc7fca04a60>"
      ]
     },
     "execution_count": 19,
     "metadata": {},
     "output_type": "execute_result"
    },
    {
     "data": {
      "image/png": "[encoded data removed]",
      "text/plain": [
       "<Figure size 432x288 with 1 Axes>"
      ]
     },
     "metadata": {
      "needs_background": "light"
     },
     "output_type": "display_data"
    }
   ],
   "source": [
    "plt.hist(gen_pt_all,1000);\n",
    "plt.xlim(0,35)\n",
    "plt.xlabel('gen_pt')\n",
    "plt.ylabel('# events')\n",
    "plt.axvline(x = 35,color = 'red')"
   ]
  },
  {
   "cell_type": "code",
   "execution_count": 20,
   "id": "b5094ba2",
   "metadata": {},
   "outputs": [
    {
     "data": {
      "text/plain": [
       "<matplotlib.lines.Line2D at 0x7fc479798bb0>"
      ]
     },
     "execution_count": 20,
     "metadata": {},
     "output_type": "execute_result"
    },
    {
     "data": {
      "image/png": "[encoded data removed]",
      "text/plain": [
       "<Figure size 432x288 with 1 Axes>"
      ]
     },
     "metadata": {
      "needs_background": "light"
     },
     "output_type": "display_data"
    }
   ],
   "source": [
    "plt.hist(abs(gen_eta_all),100);\n",
    "plt.xlabel('abs(gen_eta)')\n",
    "plt.ylabel('# events')\n",
    "plt.axvline(x = 2.1,color = 'red')\n",
    "plt.axvline(x = 2.7,color = 'red')"
   ]
  },
  {
   "cell_type": "code",
   "execution_count": 21,
   "id": "c69c1aa8",
   "metadata": {},
   "outputs": [
    {
     "data": {
      "text/plain": [
       "<matplotlib.lines.Line2D at 0x7fc7fc19ff40>"
      ]
     },
     "execution_count": 21,
     "metadata": {},
     "output_type": "execute_result"
    },
    {
     "data": {
      "image/png": "[encoded data removed]",
      "text/plain": [
       "<Figure size 432x288 with 1 Axes>"
      ]
     },
     "metadata": {
      "needs_background": "light"
     },
     "output_type": "display_data"
    }
   ],
   "source": [
    "plt.hist(abs(gen_eta_all),200);\n",
    "plt.xlim(2.1,2.7)\n",
    "plt.xlabel('abs(gen_eta)')\n",
    "plt.ylabel('# events')\n",
    "plt.axvline(x = 2.1,color = 'red')\n",
    "plt.axvline(x = 2.7,color = 'red')"
   ]
  },
  {
   "cell_type": "code",
   "execution_count": 22,
   "id": "d333bcd6",
   "metadata": {},
   "outputs": [],
   "source": [
    "pt_mask = (gen_pt_all <=35)\n",
    "eta_min_mask = (gen_eta_all>=2.1)\n",
    "eta_max_mask = (gen_eta_all <= 2.7)\n",
    "\n",
    "mask = ak.Array(np.logical_and(np.asarray(pt_mask),np.asarray(eta_min_mask),np.asarray(eta_max_mask)))"
   ]
  },
  {
   "cell_type": "markdown",
   "id": "69ed1001",
   "metadata": {},
   "source": [
    "Total events "
   ]
  },
  {
   "cell_type": "code",
   "execution_count": 23,
   "id": "84da25eb",
   "metadata": {
    "scrolled": true
   },
   "outputs": [
    {
     "data": {
      "text/plain": [
       "3317"
      ]
     },
     "execution_count": 23,
     "metadata": {},
     "output_type": "execute_result"
    }
   ],
   "source": [
    "count = np.count_nonzero(mask)\n",
    "count"
   ]
  },
  {
   "cell_type": "markdown",
   "id": "567c4c80",
   "metadata": {},
   "source": [
    "only layer 9 5 elinks data"
   ]
  },
  {
   "cell_type": "code",
   "execution_count": 25,
   "id": "15054f5d",
   "metadata": {},
   "outputs": [],
   "source": [
    "tc_data  = pd.read_csv('/ecoderemdvol/EleGun/low_pt_high_eta/data/nElinks_5/5Elinks_data.csv')"
   ]
  },
  {
   "cell_type": "code",
   "execution_count": 28,
   "id": "5234d72b",
   "metadata": {},
   "outputs": [
    {
     "data": {
      "text/plain": [
       "Text(0, 0.5, '# wafers')"
      ]
     },
     "execution_count": 28,
     "metadata": {},
     "output_type": "execute_result"
    },
    {
     "data": {
      "image/png": "[encoded data removed]",
      "text/plain": [
       "<Figure size 432x288 with 1 Axes>"
      ]
     },
     "metadata": {
      "needs_background": "light"
     },
     "output_type": "display_data"
    }
   ],
   "source": [
    "plt.hist(tc_data['tc_eta'],20)\n",
    "plt.xlabel('tc_eta')\n",
    "plt.ylabel('# wafers')"
   ]
  },
  {
   "cell_type": "code",
   "execution_count": 30,
   "id": "1475866f",
   "metadata": {},
   "outputs": [
    {
     "data": {
      "text/plain": [
       "Text(0, 0.5, '# wafers')"
      ]
     },
     "execution_count": 30,
     "metadata": {},
     "output_type": "execute_result"
    },
    {
     "data": {
      "image/png": "[encoded data removed]",
      "text/plain": [
       "<Figure size 432x288 with 1 Axes>"
      ]
     },
     "metadata": {
      "needs_background": "light"
     },
     "output_type": "display_data"
    }
   ],
   "source": [
    "plt.hist(tc_data['tc_phi'],30)\n",
    "plt.xlabel('tc_eta')\n",
    "plt.ylabel('# wafers')"
   ]
  },
  {
   "cell_type": "code",
   "execution_count": 33,
   "id": "110ddf81",
   "metadata": {},
   "outputs": [],
   "source": [
    "CALQ_COLS = ['CALQ_%i'%c for c in range(0, 48)]\n",
    "input_calQ = tc_data[CALQ_COLS]"
   ]
  },
  {
   "cell_type": "code",
   "execution_count": 36,
   "id": "b2c92e62",
   "metadata": {},
   "outputs": [],
   "source": [
    "occupancy_0MT = np.count_nonzero(input_calQ,axis=1)\n",
    "occupancy_1MT = np.count_nonzero(input_calQ>1.,axis=1)"
   ]
  },
  {
   "cell_type": "code",
   "execution_count": 39,
   "id": "3cc2ebe5",
   "metadata": {},
   "outputs": [
    {
     "data": {
      "text/plain": [
       "Text(0, 0.5, '# wafers')"
      ]
     },
     "execution_count": 39,
     "metadata": {},
     "output_type": "execute_result"
    },
    {
     "data": {
      "image/png": "[encoded data removed]",
      "text/plain": [
       "<Figure size 432x288 with 1 Axes>"
      ]
     },
     "metadata": {
      "needs_background": "light"
     },
     "output_type": "display_data"
    }
   ],
   "source": [
    "plt.hist(occupancy_0MT,24)\n",
    "plt.xlabel('occupancy_0MipT')\n",
    "plt.ylabel('# wafers')"
   ]
  },
  {
   "cell_type": "code",
   "execution_count": 40,
   "id": "b55737bd",
   "metadata": {},
   "outputs": [
    {
     "data": {
      "text/plain": [
       "Text(0, 0.5, '# wafers')"
      ]
     },
     "execution_count": 40,
     "metadata": {},
     "output_type": "execute_result"
    },
    {
     "data": {
      "image/png": "[encoded data removed]",
      "text/plain": [
       "<Figure size 432x288 with 1 Axes>"
      ]
     },
     "metadata": {
      "needs_background": "light"
     },
     "output_type": "display_data"
    }
   ],
   "source": [
    "plt.hist(occupancy_1MT,24)\n",
    "plt.xlabel('occupancy_1MipT')\n",
    "plt.ylabel('# wafers')"
   ]
  },
  {
   "cell_type": "code",
   "execution_count": 45,
   "id": "892f99bb",
   "metadata": {},
   "outputs": [
    {
     "data": {
      "text/plain": [
       "Text(0, 0.5, 'tc_eta')"
      ]
     },
     "execution_count": 45,
     "metadata": {},
     "output_type": "execute_result"
    },
    {
     "data": {
      "image/png": "[encoded data removed]",
      "text/plain": [
       "<Figure size 432x288 with 1 Axes>"
      ]
     },
     "metadata": {
      "needs_background": "light"
     },
     "output_type": "display_data"
    }
   ],
   "source": [
    "plt.hist2d(occupancy_0MT,tc_data['tc_eta'],bins=(24,10));\n",
    "plt.xlabel('occupancy_0MipT')\n",
    "plt.ylabel('tc_eta')"
   ]
  },
  {
   "cell_type": "code",
   "execution_count": 44,
   "id": "7704e693",
   "metadata": {},
   "outputs": [
    {
     "data": {
      "text/plain": [
       "Text(0, 0.5, 'tc_eta')"
      ]
     },
     "execution_count": 44,
     "metadata": {},
     "output_type": "execute_result"
    },
    {
     "data": {
      "image/png": "[encoded data removed]",
      "text/plain": [
       "<Figure size 432x288 with 1 Axes>"
      ]
     },
     "metadata": {
      "needs_background": "light"
     },
     "output_type": "display_data"
    }
   ],
   "source": [
    "plt.hist2d(occupancy_1MT,tc_data['tc_eta'],bins=(24,10));\n",
    "plt.xlabel('occupancy_1MipT')\n",
    "plt.ylabel('tc_eta')"
   ]
  },
  {
   "cell_type": "code",
   "execution_count": null,
   "id": "d710c822",
   "metadata": {},
   "outputs": [],
   "source": []
  }
 ],
 "metadata": {
  "kernelspec": {
   "display_name": "Python 3 (ipykernel)",
   "language": "python",
   "name": "python3"
  },
  "language_info": {
   "codemirror_mode": {
    "name": "ipython",
    "version": 3
   },
   "file_extension": ".py",
   "mimetype": "text/x-python",
   "name": "python",
   "nbconvert_exporter": "python",
   "pygments_lexer": "ipython3",
   "version": "3.9.10"
  }
 },
 "nbformat": 4,
 "nbformat_minor": 5
}
