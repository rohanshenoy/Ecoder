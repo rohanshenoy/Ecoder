{
 "cells": [
  {
   "cell_type": "code",
   "execution_count": 14,
   "id": "399a27d7",
   "metadata": {},
   "outputs": [],
   "source": [
    "import os\n",
    "import sys\n",
    "import argparse\n",
    "import logging\n",
    "import multiprocessing as mp\n",
    "from functools import partial\n",
    "from collections import Counter\n",
    "from datetime import datetime\n",
    "from os.path import join\n",
    "sys.path.append('../')"
   ]
  },
  {
   "cell_type": "code",
   "execution_count": 16,
   "id": "cb29f374",
   "metadata": {},
   "outputs": [],
   "source": [
    "import yaml\n",
    "import pickle\n",
    "import numpy as np\n",
    "import pandas as pd\n",
    "pd.options.mode.chained_assignment = None \n",
    "import time\n",
    "from torch_geometric.data import Data"
   ]
  },
  {
   "cell_type": "code",
   "execution_count": 17,
   "id": "d911ad27",
   "metadata": {},
   "outputs": [],
   "source": [
    "from produce_dataset import loadEconData"
   ]
  },
  {
   "cell_type": "code",
   "execution_count": 19,
   "id": "68586981",
   "metadata": {},
   "outputs": [
    {
     "name": "stdout",
     "output_type": "stream",
     "text": [
      "entry  subdet  zside  layer  waferu  waferv\n",
      "0      2       1      30     -2      -3          0.258525\n",
      "                                     -3          0.258525\n",
      "                                     -3          0.258525\n",
      "                                     -3          0.258525\n",
      "                                     -3          0.258525\n",
      "                                                  ...    \n",
      "       1       1      11     -2      -4        109.955444\n",
      "                                     -4        109.955444\n",
      "                                     -4        109.955444\n",
      "                                     -4        109.955444\n",
      "                                     -4        109.955444\n",
      "Name: simenergy, Length: 2752, dtype: float32\n"
     ]
    }
   ],
   "source": [
    "df_econ = loadEconData('/ecoderemdvol/EleGun/EPGun-PU200/econ_ntuples/',\n",
    "                       'FloatingpointAutoEncoderEMDAEMSEttbarDummyHistomaxGenmatchGenclustersntuple',\n",
    "                       'econ_data.csv')"
   ]
  },
  {
   "cell_type": "code",
   "execution_count": null,
   "id": "f8bdb549",
   "metadata": {},
   "outputs": [],
   "source": []
  }
 ],
 "metadata": {
  "kernelspec": {
   "display_name": "Python 3 (ipykernel)",
   "language": "python",
   "name": "python3"
  },
  "language_info": {
   "codemirror_mode": {
    "name": "ipython",
    "version": 3
   },
   "file_extension": ".py",
   "mimetype": "text/x-python",
   "name": "python",
   "nbconvert_exporter": "python",
   "pygments_lexer": "ipython3",
   "version": "3.9.10"
  }
 },
 "nbformat": 4,
 "nbformat_minor": 5
}
