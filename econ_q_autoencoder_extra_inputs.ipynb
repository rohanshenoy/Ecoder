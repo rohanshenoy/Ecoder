{
 "cells": [
  {
   "cell_type": "code",
   "execution_count": 1,
   "id": "300d1d11",
   "metadata": {
    "scrolled": false
   },
   "outputs": [
    {
     "name": "stderr",
     "output_type": "stream",
     "text": [
      "2023-02-16 12:45:14.570361: I tensorflow/core/platform/cpu_feature_guard.cc:193] This TensorFlow binary is optimized with oneAPI Deep Neural Network Library (oneDNN) to use the following CPU instructions in performance-critical operations:  AVX2 FMA\n",
      "To enable them in other operations, rebuild TensorFlow with the appropriate compiler flags.\n"
     ]
    }
   ],
   "source": [
    "import numpy as np\n",
    "import pandas as pd\n",
    "import argparse\n",
    "import json\n",
    "import pickle\n",
    "import os\n",
    "import numba\n",
    "import matplotlib.pyplot as plt\n",
    "\n",
    "import tensorflow as tf\n",
    "from tensorflow.keras import losses\n",
    "from tensorflow.keras import callbacks\n",
    "from tensorflow import keras as kr\n",
    "import tensorflow.keras.optimizers as opt\n",
    "\n",
    "#import model layers\n",
    "from tensorflow.keras.layers import Layer,Input, Dense, Conv2D, MaxPooling2D, UpSampling2D, Flatten, Conv2DTranspose, Reshape, Activation\n",
    "from tensorflow.keras.models import Model\n",
    "from tensorflow.keras import backend as K\n",
    "from tensorflow.keras.regularizers import l1_l2      \n",
    "from tensorflow.keras.callbacks import EarlyStopping, ModelCheckpoint\n",
    "\n",
    "#import QKeras as qkr\n",
    "from qkeras import QDense, QConv2D, QActivation\n",
    "import json\n",
    "\n",
    "import ot\n",
    "import uproot\n",
    "import awkward as ak\n",
    "from coffea.nanoevents import NanoEventsFactory, BaseSchema"
   ]
  },
  {
   "cell_type": "code",
   "execution_count": 2,
   "id": "11fa92d1",
   "metadata": {},
   "outputs": [],
   "source": [
    "from load_utils import load_data, normalize, unnormalize"
   ]
  },
  {
   "cell_type": "code",
   "execution_count": 3,
   "id": "b5604797",
   "metadata": {},
   "outputs": [
    {
     "name": "stdout",
     "output_type": "stream",
     "text": [
      "(1000, 48)\n"
     ]
    }
   ],
   "source": [
    "data_values, eta_values = load_data(infile = '/Users/physics/hep/ex/code/Ecoder/5Elinks_data.csv',nrows = 1000)"
   ]
  },
  {
   "cell_type": "code",
   "execution_count": 4,
   "id": "78c597c8",
   "metadata": {},
   "outputs": [],
   "source": [
    "# measure TC occupancy\n",
    "occupancy_all = np.count_nonzero(data_values,axis=1) # measure non-zero TCs (should be all)\n",
    "occupancy_all_1MT = np.count_nonzero(data_values>35,axis=1) # measure TCs with charge > 35\n",
    "\n",
    "# normalize input charge data\n",
    "# rescaleInputToMax: normalizes charges to maximum charge in module\n",
    "# sumlog2 (default): normalizes charges to 2**floor(log2(sum of charge in module)) where floor is the largest scalar integer: i.e. normalizes to MSB of the sum of charges (MSB here is the most significant bit)\n",
    "# rescaleSum: normalizes charges to sum of charge in module\n",
    "normdata,maxdata,sumdata = normalize(data_values.copy(),sumlog2=True)\n",
    "maxdata = maxdata / 35. # normalize to units of transverse MIPs\n",
    "sumdata = sumdata / 35. # normalize to units of transverse MIPs"
   ]
  },
  {
   "cell_type": "code",
   "execution_count": 5,
   "id": "b9551d92",
   "metadata": {},
   "outputs": [],
   "source": [
    "networks_by_name = [\n",
    "    {'name':'8x8_c8_S2_qK_RTL_emd_lphe',\n",
    "     'label':'8x8_c[8]_S2_q_emd_lphe',\n",
    "     'arr_key':'8x8',\n",
    "     'isQK':True,\n",
    "     'params':{\n",
    "         'shape':(8,8,1),\n",
    "         'loss':'',\n",
    "         'CNN_layer_nodes':[8],\n",
    "         'CNN_kernel_size':[3],\n",
    "         'CNN_strides':[(2,2)],\n",
    "        },\n",
    "    }\n",
    "]"
   ]
  },
  {
   "cell_type": "code",
   "execution_count": 6,
   "id": "dc5d90d4",
   "metadata": {},
   "outputs": [],
   "source": [
    "def build_model():\n",
    "\n",
    "    # select models to run\n",
    "    \n",
    "    m_to_run = ['8x8_c8_S2_qK_RTL_tele','8x8_c8_S2_qK_RTL_emd_lphe']\n",
    "    models = [n for n in networks_by_name if n['name'] in m_to_run]\n",
    "\n",
    "        \n",
    "    nBits_encod = dict()\n",
    "    nBits_encod  = {'total':  9, 'integer': 1,'keep_negative':0} # 0 to 2 range, 8 bit decimal \n",
    "    nBits_input  = {'total': 10, 'integer': 3, 'keep_negative':1}\n",
    "    nBits_accum  = {'total': 11, 'integer': 3, 'keep_negative':1}\n",
    "    nBits_weight = {'total':  5, 'integer': 1, 'keep_negative':1} # sign bit not included\n",
    "    \n",
    "    for m in models:\n",
    "        if not 'nBits_encod' in m['params'].keys():\n",
    "            m['params'].update({'nBits_encod':nBits_encod})\n",
    "            m['params'].update({'nBits_input':nBits_input})\n",
    "            m['params'].update({'nBits_accum':nBits_accum})\n",
    "            m['params'].update({'nBits_weight':nBits_weight})\n",
    "            \n",
    "    for m in models:\n",
    "        # print nbits for qkeras\n",
    "        if m['isQK']:\n",
    "            print('qKeras model weight {total}, {integer}, {keep_negative}'.format(**m['params']['nBits_weight']))\n",
    "            print('qKeras model input {total}, {integer}, {keep_negative}'.format(**m['params']['nBits_input']))\n",
    "            print('qKeras model accum {total}, {integer}, {keep_negative}'.format(**m['params']['nBits_accum']))\n",
    "            print('qKeras model encod {total}, {integer}, {keep_negative}'.format(**m['params']['nBits_encod']))\n",
    "             \n",
    "    return models"
   ]
  },
  {
   "cell_type": "code",
   "execution_count": 7,
   "id": "4d0539d5",
   "metadata": {
    "scrolled": true
   },
   "outputs": [
    {
     "name": "stdout",
     "output_type": "stream",
     "text": [
      "qKeras model weight 5, 1, 1\n",
      "qKeras model input 10, 3, 1\n",
      "qKeras model accum 11, 3, 1\n",
      "qKeras model encod 9, 1, 0\n"
     ]
    }
   ],
   "source": [
    "models = build_model()"
   ]
  },
  {
   "cell_type": "code",
   "execution_count": 8,
   "id": "fe746fa5",
   "metadata": {},
   "outputs": [
    {
     "name": "stdout",
     "output_type": "stream",
     "text": [
      "/Users/physics/hep/ex/code/Ecoder\r\n"
     ]
    }
   ],
   "source": [
    "!pwd"
   ]
  },
  {
   "cell_type": "code",
   "execution_count": 9,
   "id": "6c5eaa8f",
   "metadata": {},
   "outputs": [],
   "source": [
    "orig_dir = os.getcwd()\n",
    "if not os.path.exists('save_cmssw'): os.mkdir('save_cmssw')\n",
    "os.chdir('save_cmssw')"
   ]
  },
  {
   "cell_type": "code",
   "execution_count": 10,
   "id": "fe345dfc",
   "metadata": {},
   "outputs": [
    {
     "name": "stdout",
     "output_type": "stream",
     "text": [
      "/Users/physics/hep/ex/code/Ecoder/save_cmssw\r\n"
     ]
    }
   ],
   "source": [
    "!pwd"
   ]
  },
  {
   "cell_type": "code",
   "execution_count": 11,
   "id": "aa1bb766",
   "metadata": {},
   "outputs": [],
   "source": [
    "class MaskLayer(Layer):\n",
    "    def __init__(self,nFilter,arrMask):\n",
    "        super(MaskLayer, self).__init__()\n",
    "        self.nFilter = tf.constant(nFilter)\n",
    "        self.arrayMask = np.array([arrMask])\n",
    "        self.mask = tf.reshape(tf.stack(\n",
    "                        tf.repeat(self.arrayMask,repeats=[nFilter],axis=0),axis=1),\n",
    "                        shape=[-1])      \n",
    "    def call(self, inputs):\n",
    "        return tf.reshape(tf.boolean_mask(inputs,self.mask,axis=1),\n",
    "                          shape=(tf.shape(inputs)[0],48*self.nFilter))\n",
    "    def get_config(self):\n",
    "        config = super().get_config().copy()\n",
    "        config.update({\n",
    "            'nFilter': self.nFilter.numpy(),\n",
    "            'arrMask': self.arrayMask.tolist(),\n",
    "        })\n",
    "        return config"
   ]
  },
  {
   "cell_type": "code",
   "execution_count": 12,
   "id": "44a81c8d",
   "metadata": {},
   "outputs": [],
   "source": [
    "arrange =  np.array([28,29,30,31,0,4,8,12,\n",
    "                     24,25,26,27,1,5,9,13,\n",
    "                     20,21,22,23,2,6,10,14,\n",
    "                     16,17,18,19,3,7,11,15,\n",
    "                     47,43,39,35,35,34,33,32,\n",
    "                     46,42,38,34,39,38,37,36,\n",
    "                     45,41,37,33,43,42,41,40,\n",
    "                     44,40,36,32,47,46,45,44])\n",
    "\n",
    "arrMask= np.array([1,1,1,1,1,1,1,1,\n",
    "                   1,1,1,1,1,1,1,1,\n",
    "                   1,1,1,1,1,1,1,1,\n",
    "                   1,1,1,1,1,1,1,1,\n",
    "                   1,1,1,1,0,0,0,0,\n",
    "                   1,1,1,1,0,0,0,0,\n",
    "                   1,1,1,1,0,0,0,0,\n",
    "                   1,1,1,1,0,0,0,0,])\n",
    "    \n",
    "calQMask=np.array([1,1,1,1,1,1,1,1,\n",
    "                    1,1,1,1,1,1,1,1,\n",
    "                    1,1,1,1,1,1,1,1,\n",
    "                    1,1,1,1,1,1,1,1,\n",
    "                    1,1,1,1,0,0,0,0,\n",
    "                    1,1,1,1,0,0,0,0,\n",
    "                    1,1,1,1,0,0,0,0,\n",
    "                    1,1,1,1,0,0,0,0,])\n"
   ]
  },
  {
   "cell_type": "code",
   "execution_count": 13,
   "id": "3a8be935",
   "metadata": {},
   "outputs": [],
   "source": [
    "def prepInput(normData):\n",
    "    \n",
    "    shape = (8,8,1)\n",
    "    inputdata = normData[:,arrange]\n",
    "\n",
    "    inputdata[:,arrMask==0]=0  #zeros out repeated entries\n",
    "\n",
    "    shaped_data = inputdata.reshape(len(inputdata),shape[0],shape[1],shape[2])\n",
    "    \n",
    "    return shaped_data"
   ]
  },
  {
   "cell_type": "code",
   "execution_count": 14,
   "id": "2c691bb5",
   "metadata": {},
   "outputs": [],
   "source": [
    "remap_8x8 = [4, 12, 20, 28,  5, 13, 21, 29,  6, 14, 22, 30,  7, 15, 23, 31, \n",
    "             24, 25, 26, 27, 16, 17, 18, 19,  8,  9, 10, 11,  0,  1,  2,  3, \n",
    "             59, 51, 43, 35, 58, 50, 42, 34, 57, 49, 41, 33, 56, 48, 40, 32]\n",
    "\n",
    "arrange443 = np.array([0,16, 32,\n",
    "                       1,17, 33,\n",
    "                       2,18, 34,\n",
    "                       3,19, 35,\n",
    "                       4,20, 36,\n",
    "                       5,21, 37,\n",
    "                       6,22, 38,\n",
    "                       7,23, 39,\n",
    "                       8,24, 40,\n",
    "                       9,25, 41,\n",
    "                       10,26, 42,\n",
    "                       11,27, 43,\n",
    "                       12,28, 44,\n",
    "                       13,29, 45,\n",
    "                       14,30, 46,\n",
    "                       15,31, 47])\n",
    "\n"
   ]
  },
  {
   "cell_type": "code",
   "execution_count": 15,
   "id": "548d01f4",
   "metadata": {},
   "outputs": [
    {
     "name": "stderr",
     "output_type": "stream",
     "text": [
      "2023-02-16 12:45:20.504267: I tensorflow/core/platform/cpu_feature_guard.cc:193] This TensorFlow binary is optimized with oneAPI Deep Neural Network Library (oneDNN) to use the following CPU instructions in performance-critical operations:  AVX2 FMA\n",
      "To enable them in other operations, rebuild TensorFlow with the appropriate compiler flags.\n"
     ]
    }
   ],
   "source": [
    "model_path='/Users/physics/hep/ex/code/Ecoder/ae_mse_lphe.h5'\n",
    "emd_model = tf.keras.models.load_model(model_path)\n",
    "emd_model.trainable = False\n",
    "\n",
    "def map_881_to_443(x):\n",
    "    y = tf.reshape(x, (-1, 64))\n",
    "    y = tf.gather(y, remap_8x8, axis=1)\n",
    "    y = tf.gather(y, arrange443, axis=1)\n",
    "    y = tf.reshape(y, (-1, 4, 4, 3))\n",
    "    return y"
   ]
  },
  {
   "cell_type": "code",
   "execution_count": 16,
   "id": "4d8027d2",
   "metadata": {},
   "outputs": [
    {
     "name": "stdout",
     "output_type": "stream",
     "text": [
      "Training shape\n",
      "(800, 8, 8, 1)\n",
      "Validation shape\n",
      "(200, 8, 8, 1)\n"
     ]
    }
   ],
   "source": [
    "shaped_data = prepInput(normdata)\n",
    "\n",
    "def split(shaped_data, validation_frac=0.2,randomize=False):\n",
    "    N = round(len(shaped_data)*validation_frac)\n",
    "    if randomize:\n",
    "        val_index = np.random.choice(shaped_data.shape[0], N, replace=False) # randomly select 25% entries\n",
    "        full_index = np.array(range(0,len(shaped_data))) # select the indices of the other 75%\n",
    "        train_index = np.logical_not(np.in1d(full_index,val_index))\n",
    "\n",
    "        val_input = shaped_data[val_index]\n",
    "        train_input = shaped_data[train_index]\n",
    "    else:\n",
    "        val_input = shaped_data[:N]\n",
    "        train_input = shaped_data[N:]\n",
    "        val_index = np.arange(N)\n",
    "        train_index = np.arange(len(shaped_data))[N:]\n",
    "\n",
    "    print('Training shape')\n",
    "    print(train_input.shape)\n",
    "    print('Validation shape')\n",
    "    print(val_input.shape)\n",
    "    return val_input,train_input,val_index,train_index\n",
    "\n",
    "val_input, train_input, val_ind, train_ind = split(shaped_data)\n",
    "\n",
    "train_sum = sumdata[train_ind]\n",
    "val_sum = sumdata[val_ind]"
   ]
  },
  {
   "cell_type": "code",
   "execution_count": 17,
   "id": "e7ca5935",
   "metadata": {},
   "outputs": [],
   "source": [
    "train_sum = sumdata[train_ind]\n",
    "val_sum = sumdata[val_ind]\n",
    "\n",
    "train_eta = eta_values[train_ind]\n",
    "val_eta = eta_values[val_ind]"
   ]
  },
  {
   "cell_type": "code",
   "execution_count": 18,
   "id": "a5fd1bc1",
   "metadata": {},
   "outputs": [],
   "source": [
    "encoded_dim = 16\n",
    "\n",
    "CNN_layer_nodes   = [8]\n",
    "CNN_kernel_size   = [3]\n",
    "CNN_padding       = ['same']\n",
    "CNN_strides       = [(2,2)]\n",
    "CNN_pool          = [False]\n",
    "Dense_layer_nodes = [] #does not include encoded layer\n",
    "channels_first    = False"
   ]
  },
  {
   "cell_type": "code",
   "execution_count": 19,
   "id": "15467f6a",
   "metadata": {},
   "outputs": [],
   "source": [
    "def emd_loss(y_true_cal,y_pred_cal):\n",
    "    \n",
    "    y_pred_443 = map_881_to_443(y_pred_cal)\n",
    "    y_true_443 = map_881_to_443(y_true_cal)\n",
    "    return emd_model([y_true_443, y_pred_443])"
   ]
  },
  {
   "cell_type": "code",
   "execution_count": 20,
   "id": "693b1a5f",
   "metadata": {},
   "outputs": [],
   "source": [
    "def GetQbits(inp, keep_negative=1):\n",
    "    print(\"Setting bits {} {} with keep negative = {}\".format(inp['total'], inp['integer'], keep_negative))\n",
    "    b =  qkr.quantized_bits(bits=inp['total'], integer=inp['integer'], keep_negative=keep_negative, alpha=1)\n",
    "    print('max = %s, min = %s'%(b.max(),b.min()))\n",
    "    print('str representation:%s'%(str(b)))\n",
    "    print('config = ',b.get_config())\n",
    "    return b"
   ]
  },
  {
   "cell_type": "code",
   "execution_count": 21,
   "id": "67f47091",
   "metadata": {},
   "outputs": [],
   "source": [
    "nBits_encod  = {'total':  9, 'integer': 1,'keep_negative':0} # 0 to 2 range, 8 bit decimal \n",
    "nBits_input  = {'total': 10, 'integer': 3, 'keep_negative':1}\n",
    "nBits_accum  = {'total': 11, 'integer': 3, 'keep_negative':1}\n",
    "nBits_weight = {'total':  5, 'integer': 1, 'keep_negative':1} # sign bit not included"
   ]
  },
  {
   "cell_type": "code",
   "execution_count": 22,
   "id": "2a8753ca",
   "metadata": {},
   "outputs": [],
   "source": [
    "import qkeras as qkr"
   ]
  },
  {
   "cell_type": "code",
   "execution_count": 23,
   "id": "3607cf44",
   "metadata": {},
   "outputs": [
    {
     "name": "stdout",
     "output_type": "stream",
     "text": [
      "Setting bits 10 3 with keep negative = 1\n",
      "max = 8.0, min = -8.0\n",
      "str representation:quantized_bits(10,3,0,alpha=1)\n",
      "config =  {'bits': 10, 'integer': 3, 'symmetric': 0, 'alpha': 1, 'keep_negative': 1, 'use_stochastic_rounding': False, 'qnoise_factor': 1.0}\n",
      "Setting bits 11 3 with keep negative = 1\n",
      "max = 8.0, min = -8.0\n",
      "str representation:quantized_bits(11,3,0,alpha=1)\n",
      "config =  {'bits': 11, 'integer': 3, 'symmetric': 0, 'alpha': 1, 'keep_negative': 1, 'use_stochastic_rounding': False, 'qnoise_factor': 1.0}\n",
      "Setting bits 5 1 with keep negative = 1\n",
      "max = 2.0, min = -2.0\n",
      "str representation:quantized_bits(5,1,0,alpha=1)\n",
      "config =  {'bits': 5, 'integer': 1, 'symmetric': 0, 'alpha': 1, 'keep_negative': 1, 'use_stochastic_rounding': False, 'qnoise_factor': 1.0}\n",
      "Setting bits 5 1 with keep negative = 1\n",
      "max = 2.0, min = -2.0\n",
      "str representation:quantized_bits(5,1,0,alpha=1)\n",
      "config =  {'bits': 5, 'integer': 1, 'symmetric': 0, 'alpha': 1, 'keep_negative': 1, 'use_stochastic_rounding': False, 'qnoise_factor': 1.0}\n",
      "Setting bits 9 1 with keep negative = 0\n",
      "max = 2.0, min = 0.0\n",
      "str representation:quantized_bits(9,1,0,keep_negative=False,alpha=1)\n",
      "config =  {'bits': 9, 'integer': 1, 'symmetric': 0, 'alpha': 1, 'keep_negative': 0, 'use_stochastic_rounding': False, 'qnoise_factor': 1.0}\n"
     ]
    }
   ],
   "source": [
    "input_Qbits  = GetQbits(nBits_input, nBits_input['keep_negative']) \n",
    "accum_Qbits  = GetQbits(nBits_accum, nBits_accum['keep_negative'])\n",
    "qa_accum     = qkr.quantized_relu(bits=nBits_accum['total'],integer=nBits_accum['integer'])\n",
    "dense_Qbits  = GetQbits(nBits_weight, nBits_weight['keep_negative'])\n",
    "conv_Qbits   = GetQbits(nBits_weight , nBits_weight ['keep_negative'])\n",
    "encod_Qbits  = GetQbits(nBits_encod, nBits_encod['keep_negative'])\n",
    "qa_encod    = qkr.quantized_relu(bits = nBits_encod['total'],integer=nBits_encod['integer'])"
   ]
  },
  {
   "cell_type": "code",
   "execution_count": 24,
   "id": "6e538bc9",
   "metadata": {},
   "outputs": [
    {
     "name": "stdout",
     "output_type": "stream",
     "text": [
      "WARNING:tensorflow:From /Users/physics/opt/miniconda3/envs/hep/lib/python3.10/site-packages/tensorflow/python/autograph/pyct/static_analysis/liveness.py:83: Analyzer.lamba_check (from tensorflow.python.autograph.pyct.static_analysis.liveness) is deprecated and will be removed after 2023-09-23.\n",
      "Instructions for updating:\n",
      "Lambda fuctions will be no more assumed to be used in the statement where they are used, or at least in the same block. https://github.com/tensorflow/tensorflow/issues/56089\n"
     ]
    }
   ],
   "source": [
    "inputs = [Input(shape=(8,8,1)),\n",
    "          Input(shape = (1)),\n",
    "          Input(shape = (1))]\n",
    "\n",
    "x = inputs[0]\n",
    "\n",
    "x = QActivation(input_Qbits, name='input_qa')(x)\n",
    "\n",
    "for i,n_nodes in enumerate(CNN_layer_nodes):\n",
    "\n",
    "    x = QConv2D(n_nodes, CNN_kernel_size[i], padding=CNN_padding[i], name=\"conv2d_\"+str(i)+\"_m\", \n",
    "                strides = CNN_strides[i], kernel_quantizer=conv_Qbits, bias_quantizer=conv_Qbits)(x)\n",
    "shape = K.int_shape(x)\n",
    "x = QActivation(qa_accum, name='accum1_qa')(x)\n",
    "x = Flatten(name=\"flatten\")(x)"
   ]
  },
  {
   "cell_type": "markdown",
   "id": "11440376",
   "metadata": {},
   "source": [
    "# Add sum_tc and eta_tc as inputs"
   ]
  },
  {
   "cell_type": "code",
   "execution_count": 25,
   "id": "d92f3e13",
   "metadata": {},
   "outputs": [],
   "source": [
    "from tensorflow.keras.layers import Concatenate"
   ]
  },
  {
   "cell_type": "code",
   "execution_count": 26,
   "id": "24d0b310",
   "metadata": {},
   "outputs": [],
   "source": [
    "concat =  Concatenate(axis=1)([x,inputs[1],inputs[2]])"
   ]
  },
  {
   "cell_type": "code",
   "execution_count": 27,
   "id": "a3eb9a98",
   "metadata": {},
   "outputs": [],
   "source": [
    "encodedLayer = QDense(encoded_dim, name='encoded_vector',\n",
    "           kernel_quantizer=dense_Qbits, bias_quantizer=dense_Qbits)(concat)"
   ]
  },
  {
   "cell_type": "code",
   "execution_count": 27,
   "id": "592c6f9a",
   "metadata": {},
   "outputs": [],
   "source": [
    "#encodedLayer = QActivation(16, name='encod_qa')(x)"
   ]
  },
  {
   "cell_type": "code",
   "execution_count": 28,
   "id": "5c0f2b41",
   "metadata": {},
   "outputs": [],
   "source": [
    "# Instantiate Encoder Model\n",
    "encoder = Model(inputs, encodedLayer, name='encoder')\n",
    "\n",
    "encoded_inputs = Input(shape=(encoded_dim,), name='decoder_input')"
   ]
  },
  {
   "cell_type": "code",
   "execution_count": 29,
   "id": "f598bb76",
   "metadata": {},
   "outputs": [
    {
     "name": "stdout",
     "output_type": "stream",
     "text": [
      "Model: \"encoder\"\n",
      "__________________________________________________________________________________________________\n",
      " Layer (type)                   Output Shape         Param #     Connected to                     \n",
      "==================================================================================================\n",
      " input_1 (InputLayer)           [(None, 8, 8, 1)]    0           []                               \n",
      "                                                                                                  \n",
      " input_qa (QActivation)         (None, 8, 8, 1)      0           ['input_1[0][0]']                \n",
      "                                                                                                  \n",
      " conv2d_0_m (QConv2D)           (None, 4, 4, 8)      80          ['input_qa[0][0]']               \n",
      "                                                                                                  \n",
      " accum1_qa (QActivation)        (None, 4, 4, 8)      0           ['conv2d_0_m[0][0]']             \n",
      "                                                                                                  \n",
      " flatten (Flatten)              (None, 128)          0           ['accum1_qa[0][0]']              \n",
      "                                                                                                  \n",
      " input_2 (InputLayer)           [(None, 1)]          0           []                               \n",
      "                                                                                                  \n",
      " input_3 (InputLayer)           [(None, 1)]          0           []                               \n",
      "                                                                                                  \n",
      " concatenate (Concatenate)      (None, 130)          0           ['flatten[0][0]',                \n",
      "                                                                  'input_2[0][0]',                \n",
      "                                                                  'input_3[0][0]']                \n",
      "                                                                                                  \n",
      " encoded_vector (QDense)        (None, 16)           2096        ['concatenate[0][0]']            \n",
      "                                                                                                  \n",
      "==================================================================================================\n",
      "Total params: 2,176\n",
      "Trainable params: 2,176\n",
      "Non-trainable params: 0\n",
      "__________________________________________________________________________________________________\n"
     ]
    }
   ],
   "source": [
    "encoder.summary()"
   ]
  },
  {
   "cell_type": "code",
   "execution_count": 30,
   "id": "c0417969",
   "metadata": {},
   "outputs": [],
   "source": [
    "x = encoded_inputs\n",
    "\n",
    "#decoder dense nodes\n",
    "\n",
    "x = Dense(shape[1] * shape[2] * shape[3], activation='relu')(x)\n",
    "x = Reshape((shape[1], shape[2], shape[3]))(x)\n",
    "\n",
    "for i,n_nodes in enumerate(CNN_layer_nodes):\n",
    "\n",
    "    x = Conv2DTranspose(n_nodes, CNN_kernel_size[i], activation='relu', strides=CNN_strides[i],padding=CNN_padding[i])(x)\n",
    "\n",
    "x = Conv2DTranspose(filters=(8,8,1)[2],kernel_size=CNN_kernel_size[0],padding='same')(x)\n",
    "\n",
    "outputs= Activation('sigmoid', name='decoder_output')(x)\n",
    "\n",
    "decoder = Model(encoded_inputs, outputs, name='decoder')\n",
    "\n",
    "autoencoder = Model(inputs, decoder(encoder(inputs)), name='autoencoder')"
   ]
  },
  {
   "cell_type": "code",
   "execution_count": 31,
   "id": "de75ca57",
   "metadata": {},
   "outputs": [],
   "source": [
    "autoencoder.compile(optimizer='adam', loss=emd_loss)"
   ]
  },
  {
   "cell_type": "code",
   "execution_count": 32,
   "id": "754c2bd7",
   "metadata": {},
   "outputs": [],
   "source": [
    "train_sum_t = tf.expand_dims(train_sum,axis=1)\n",
    "train_eta_t = tf.expand_dims(train_eta,axis=1)"
   ]
  },
  {
   "cell_type": "code",
   "execution_count": 33,
   "id": "1f8bee83",
   "metadata": {},
   "outputs": [],
   "source": [
    "val_sum_t = tf.expand_dims(val_sum,axis=1)\n",
    "val_eta_t = tf.expand_dims(val_eta,axis=1)"
   ]
  },
  {
   "cell_type": "code",
   "execution_count": 34,
   "id": "69b6460c",
   "metadata": {},
   "outputs": [
    {
     "name": "stdout",
     "output_type": "stream",
     "text": [
      "Epoch 1/100\n",
      "16/16 [==============================] - 3s 60ms/step - loss: 36.4911 - val_loss: 33.8216\n",
      "Epoch 2/100\n",
      "16/16 [==============================] - 0s 12ms/step - loss: 29.2945 - val_loss: 23.1874\n",
      "Epoch 3/100\n",
      "16/16 [==============================] - 0s 13ms/step - loss: 16.4813 - val_loss: 10.5811\n",
      "Epoch 4/100\n",
      "16/16 [==============================] - 0s 13ms/step - loss: 6.5852 - val_loss: 5.1862\n",
      "Epoch 5/100\n",
      "16/16 [==============================] - 0s 14ms/step - loss: 5.0655 - val_loss: 5.1333\n",
      "Epoch 6/100\n",
      "16/16 [==============================] - 0s 13ms/step - loss: 5.0359 - val_loss: 5.1314\n",
      "Epoch 7/100\n",
      "16/16 [==============================] - 0s 13ms/step - loss: 5.0315 - val_loss: 5.1302\n",
      "Epoch 8/100\n",
      "16/16 [==============================] - 0s 13ms/step - loss: 5.0293 - val_loss: 5.1290\n",
      "Epoch 9/100\n",
      "16/16 [==============================] - 0s 12ms/step - loss: 5.0279 - val_loss: 5.1283\n",
      "Epoch 10/100\n",
      "16/16 [==============================] - 0s 13ms/step - loss: 5.0266 - val_loss: 5.1272\n",
      "Epoch 11/100\n",
      "16/16 [==============================] - 0s 13ms/step - loss: 5.0253 - val_loss: 5.1259\n",
      "Epoch 12/100\n",
      "16/16 [==============================] - 0s 13ms/step - loss: 5.0235 - val_loss: 5.1245\n",
      "Epoch 13/100\n",
      "16/16 [==============================] - 0s 13ms/step - loss: 5.0218 - val_loss: 5.1230\n",
      "Epoch 14/100\n",
      "16/16 [==============================] - 0s 14ms/step - loss: 5.0200 - val_loss: 5.1213\n",
      "Epoch 15/100\n",
      "16/16 [==============================] - 0s 14ms/step - loss: 5.0181 - val_loss: 5.1197\n",
      "Epoch 16/100\n",
      "16/16 [==============================] - 0s 14ms/step - loss: 5.0160 - val_loss: 5.1185\n",
      "Epoch 17/100\n",
      "16/16 [==============================] - 0s 15ms/step - loss: 5.0140 - val_loss: 5.1170\n",
      "Epoch 18/100\n",
      "16/16 [==============================] - 0s 13ms/step - loss: 5.0117 - val_loss: 5.1153\n",
      "Epoch 19/100\n",
      "16/16 [==============================] - 0s 12ms/step - loss: 5.0099 - val_loss: 5.1139\n",
      "Epoch 20/100\n",
      "16/16 [==============================] - 0s 15ms/step - loss: 5.0077 - val_loss: 5.1124\n",
      "Epoch 21/100\n",
      "16/16 [==============================] - 0s 15ms/step - loss: 5.0057 - val_loss: 5.1114\n",
      "Epoch 22/100\n",
      "16/16 [==============================] - 0s 13ms/step - loss: 5.0037 - val_loss: 5.1096\n",
      "Epoch 23/100\n",
      "16/16 [==============================] - 0s 13ms/step - loss: 5.0012 - val_loss: 5.1071\n",
      "Epoch 24/100\n",
      "16/16 [==============================] - 0s 13ms/step - loss: 4.9986 - val_loss: 5.1042\n",
      "Epoch 25/100\n",
      "16/16 [==============================] - 0s 13ms/step - loss: 4.9951 - val_loss: 5.1005\n",
      "Epoch 26/100\n",
      "16/16 [==============================] - 0s 13ms/step - loss: 4.9908 - val_loss: 5.0963\n",
      "Epoch 27/100\n",
      "16/16 [==============================] - 0s 13ms/step - loss: 4.9859 - val_loss: 5.0901\n",
      "Epoch 28/100\n",
      "16/16 [==============================] - 0s 14ms/step - loss: 4.9813 - val_loss: 5.0831\n",
      "Epoch 29/100\n",
      "16/16 [==============================] - 0s 13ms/step - loss: 4.9748 - val_loss: 5.0744\n",
      "Epoch 30/100\n",
      "16/16 [==============================] - 0s 13ms/step - loss: 4.9678 - val_loss: 5.0654\n",
      "Epoch 31/100\n",
      "16/16 [==============================] - 0s 14ms/step - loss: 4.9599 - val_loss: 5.0517\n",
      "Epoch 32/100\n",
      "16/16 [==============================] - 0s 13ms/step - loss: 4.9463 - val_loss: 5.0296\n",
      "Epoch 33/100\n",
      "16/16 [==============================] - 0s 15ms/step - loss: 4.9284 - val_loss: 5.0022\n",
      "Epoch 34/100\n",
      "16/16 [==============================] - 0s 14ms/step - loss: 4.9090 - val_loss: 4.9719\n",
      "Epoch 35/100\n",
      "16/16 [==============================] - 0s 14ms/step - loss: 4.8937 - val_loss: 4.9541\n",
      "Epoch 36/100\n",
      "16/16 [==============================] - 0s 15ms/step - loss: 4.8793 - val_loss: 4.9243\n",
      "Epoch 37/100\n",
      "16/16 [==============================] - 0s 14ms/step - loss: 4.8587 - val_loss: 4.8890\n",
      "Epoch 38/100\n",
      "16/16 [==============================] - 0s 14ms/step - loss: 4.8299 - val_loss: 4.8470\n",
      "Epoch 39/100\n",
      "16/16 [==============================] - 0s 14ms/step - loss: 4.7946 - val_loss: 4.7841\n",
      "Epoch 40/100\n",
      "16/16 [==============================] - 0s 14ms/step - loss: 4.7466 - val_loss: 4.7168\n",
      "Epoch 41/100\n",
      "16/16 [==============================] - 0s 14ms/step - loss: 4.6818 - val_loss: 4.6235\n",
      "Epoch 42/100\n",
      "16/16 [==============================] - 0s 14ms/step - loss: 4.6203 - val_loss: 4.5521\n",
      "Epoch 43/100\n",
      "16/16 [==============================] - 0s 14ms/step - loss: 4.5704 - val_loss: 4.5067\n",
      "Epoch 44/100\n",
      "16/16 [==============================] - 0s 14ms/step - loss: 4.5315 - val_loss: 4.4676\n",
      "Epoch 45/100\n",
      "16/16 [==============================] - 0s 14ms/step - loss: 4.4877 - val_loss: 4.4291\n",
      "Epoch 46/100\n",
      "16/16 [==============================] - 0s 13ms/step - loss: 4.4309 - val_loss: 4.3579\n",
      "Epoch 47/100\n",
      "16/16 [==============================] - 0s 13ms/step - loss: 4.3623 - val_loss: 4.3443\n",
      "Epoch 48/100\n",
      "16/16 [==============================] - 0s 14ms/step - loss: 4.3002 - val_loss: 4.2852\n",
      "Epoch 49/100\n",
      "16/16 [==============================] - 0s 13ms/step - loss: 4.2551 - val_loss: 4.2173\n",
      "Epoch 50/100\n",
      "16/16 [==============================] - 0s 12ms/step - loss: 4.1985 - val_loss: 4.1889\n",
      "Epoch 51/100\n",
      "16/16 [==============================] - 0s 13ms/step - loss: 4.1428 - val_loss: 4.1449\n",
      "Epoch 52/100\n",
      "16/16 [==============================] - 0s 13ms/step - loss: 4.0861 - val_loss: 4.1071\n",
      "Epoch 53/100\n",
      "16/16 [==============================] - 0s 13ms/step - loss: 4.0266 - val_loss: 4.1612\n",
      "Epoch 54/100\n",
      "16/16 [==============================] - 0s 12ms/step - loss: 4.0076 - val_loss: 4.0208\n",
      "Epoch 55/100\n",
      "16/16 [==============================] - 0s 12ms/step - loss: 3.9770 - val_loss: 4.0018\n",
      "Epoch 56/100\n",
      "16/16 [==============================] - 0s 11ms/step - loss: 3.9530 - val_loss: 3.9678\n",
      "Epoch 57/100\n",
      "16/16 [==============================] - 0s 11ms/step - loss: 3.8952 - val_loss: 3.9708\n",
      "Epoch 58/100\n",
      "16/16 [==============================] - 0s 12ms/step - loss: 3.8697 - val_loss: 3.9614\n",
      "Epoch 59/100\n",
      "16/16 [==============================] - 0s 11ms/step - loss: 3.8192 - val_loss: 3.8973\n",
      "Epoch 60/100\n",
      "16/16 [==============================] - 0s 11ms/step - loss: 3.8145 - val_loss: 3.8846\n",
      "Epoch 61/100\n",
      "16/16 [==============================] - 0s 12ms/step - loss: 3.7719 - val_loss: 3.8237\n",
      "Epoch 62/100\n",
      "16/16 [==============================] - 0s 12ms/step - loss: 3.7350 - val_loss: 3.8170\n",
      "Epoch 63/100\n",
      "16/16 [==============================] - 0s 12ms/step - loss: 3.6988 - val_loss: 3.7863\n",
      "Epoch 64/100\n",
      "16/16 [==============================] - 0s 11ms/step - loss: 3.6675 - val_loss: 3.8174\n",
      "Epoch 65/100\n",
      "16/16 [==============================] - 0s 11ms/step - loss: 3.6504 - val_loss: 3.7533\n",
      "Epoch 66/100\n",
      "16/16 [==============================] - 0s 12ms/step - loss: 3.6090 - val_loss: 3.7578\n",
      "Epoch 67/100\n",
      "16/16 [==============================] - 0s 12ms/step - loss: 3.5720 - val_loss: 3.6835\n",
      "Epoch 68/100\n",
      "16/16 [==============================] - 0s 12ms/step - loss: 3.5723 - val_loss: 3.6766\n",
      "Epoch 69/100\n",
      "16/16 [==============================] - 0s 12ms/step - loss: 3.5212 - val_loss: 3.5968\n",
      "Epoch 70/100\n",
      "16/16 [==============================] - 0s 13ms/step - loss: 3.4751 - val_loss: 3.5698\n",
      "Epoch 71/100\n",
      "16/16 [==============================] - 0s 12ms/step - loss: 3.4514 - val_loss: 3.5856\n",
      "Epoch 72/100\n",
      "16/16 [==============================] - 0s 12ms/step - loss: 3.4319 - val_loss: 3.5281\n",
      "Epoch 73/100\n",
      "16/16 [==============================] - 0s 12ms/step - loss: 3.3804 - val_loss: 3.4790\n",
      "Epoch 74/100\n",
      "16/16 [==============================] - 0s 12ms/step - loss: 3.3558 - val_loss: 3.4635\n",
      "Epoch 75/100\n",
      "16/16 [==============================] - 0s 12ms/step - loss: 3.3208 - val_loss: 3.4407\n",
      "Epoch 76/100\n",
      "16/16 [==============================] - 0s 11ms/step - loss: 3.3061 - val_loss: 3.4009\n",
      "Epoch 77/100\n",
      "16/16 [==============================] - 0s 11ms/step - loss: 3.2662 - val_loss: 3.3967\n",
      "Epoch 78/100\n",
      "16/16 [==============================] - 0s 13ms/step - loss: 3.2492 - val_loss: 3.3555\n",
      "Epoch 79/100\n",
      "16/16 [==============================] - 0s 13ms/step - loss: 3.2125 - val_loss: 3.3284\n",
      "Epoch 80/100\n",
      "16/16 [==============================] - 0s 12ms/step - loss: 3.1966 - val_loss: 3.3179\n",
      "Epoch 81/100\n",
      "16/16 [==============================] - 0s 11ms/step - loss: 3.1804 - val_loss: 3.3045\n",
      "Epoch 82/100\n"
     ]
    },
    {
     "name": "stdout",
     "output_type": "stream",
     "text": [
      "16/16 [==============================] - 0s 11ms/step - loss: 3.1466 - val_loss: 3.2738\n",
      "Epoch 83/100\n",
      "16/16 [==============================] - 0s 11ms/step - loss: 3.1223 - val_loss: 3.2554\n",
      "Epoch 84/100\n",
      "16/16 [==============================] - 0s 11ms/step - loss: 3.1398 - val_loss: 3.3086\n",
      "Epoch 85/100\n",
      "16/16 [==============================] - 0s 11ms/step - loss: 3.0945 - val_loss: 3.2202\n",
      "Epoch 86/100\n",
      "16/16 [==============================] - 0s 11ms/step - loss: 3.0741 - val_loss: 3.2081\n",
      "Epoch 87/100\n",
      "16/16 [==============================] - 0s 11ms/step - loss: 3.0357 - val_loss: 3.1445\n",
      "Epoch 88/100\n",
      "16/16 [==============================] - 0s 11ms/step - loss: 3.0046 - val_loss: 3.1645\n",
      "Epoch 89/100\n",
      "16/16 [==============================] - 0s 11ms/step - loss: 2.9668 - val_loss: 3.1053\n",
      "Epoch 90/100\n",
      "16/16 [==============================] - 0s 11ms/step - loss: 2.9310 - val_loss: 3.0726\n",
      "Epoch 91/100\n",
      "16/16 [==============================] - 0s 11ms/step - loss: 2.8965 - val_loss: 3.0560\n",
      "Epoch 92/100\n",
      "16/16 [==============================] - 0s 11ms/step - loss: 2.8722 - val_loss: 3.0114\n",
      "Epoch 93/100\n",
      "16/16 [==============================] - 0s 11ms/step - loss: 2.8471 - val_loss: 2.9939\n",
      "Epoch 94/100\n",
      "16/16 [==============================] - 0s 11ms/step - loss: 2.8191 - val_loss: 2.9917\n",
      "Epoch 95/100\n",
      "16/16 [==============================] - 0s 11ms/step - loss: 2.7949 - val_loss: 2.9947\n",
      "Epoch 96/100\n",
      "16/16 [==============================] - 0s 11ms/step - loss: 2.7734 - val_loss: 2.9442\n",
      "Epoch 97/100\n",
      "16/16 [==============================] - 0s 11ms/step - loss: 2.7492 - val_loss: 2.8935\n",
      "Epoch 98/100\n",
      "16/16 [==============================] - 0s 11ms/step - loss: 2.7695 - val_loss: 2.9124\n",
      "Epoch 99/100\n",
      "16/16 [==============================] - 0s 11ms/step - loss: 2.7275 - val_loss: 2.9028\n",
      "Epoch 100/100\n",
      "16/16 [==============================] - 0s 12ms/step - loss: 2.7113 - val_loss: 2.8660\n"
     ]
    }
   ],
   "source": [
    "n_epochs=100\n",
    "\n",
    "es = callbacks.EarlyStopping(monitor='val_loss', mode='min', verbose=1, patience=30)\n",
    "\n",
    "history = autoencoder.fit([train_input,train_sum_t,train_eta_t],\n",
    "                          train_input,\n",
    "                          epochs=n_epochs,\n",
    "                          batch_size=50,\n",
    "                          validation_data=([val_input,val_sum_t,val_eta_t],val_input),\n",
    "                          callbacks=[es])"
   ]
  },
  {
   "cell_type": "code",
   "execution_count": 35,
   "id": "e5cf5158",
   "metadata": {},
   "outputs": [],
   "source": [
    "def plot_loss(history):\n",
    "    plt.figure(figsize=(8,6))\n",
    "    plt.yscale('log')\n",
    "    plt.plot(history.history['loss'])\n",
    "    plt.plot(history.history['val_loss'])\n",
    "    plt.title('Model loss')\n",
    "    plt.ylabel('Loss')\n",
    "    plt.xlabel('Epoch')\n",
    "    plt.legend(['Train', 'Test'], loc='upper right')\n",
    "    plt.savefig(\"history.pdf\")\n",
    "    plt.show()\n",
    "    plt.close()\n",
    "    plt.clf()\n",
    "    return"
   ]
  },
  {
   "cell_type": "code",
   "execution_count": 36,
   "id": "863e7937",
   "metadata": {},
   "outputs": [
    {
     "data": {
      "image/png": "[encoded data removed]",
      "text/plain": [
       "<Figure size 800x600 with 1 Axes>"
      ]
     },
     "metadata": {},
     "output_type": "display_data"
    },
    {
     "data": {
      "text/plain": [
       "<Figure size 640x480 with 0 Axes>"
      ]
     },
     "metadata": {},
     "output_type": "display_data"
    }
   ],
   "source": [
    "plot_loss(history)"
   ]
  },
  {
   "cell_type": "code",
   "execution_count": 37,
   "id": "da61d1d9",
   "metadata": {},
   "outputs": [],
   "source": [
    "def invertArrange(arrange,arrMask=[],calQMask=[]):\n",
    "    remap =[]\n",
    "    hashmap = {}  ## cell:index mapping\n",
    "    ##Valid arrange check\n",
    "    if not np.all(np.unique(arrange)==np.arange(48)):\n",
    "        raise ValueError(\"Found cell location with number > 48. Please check your arrange:\",arrange)\n",
    "    foundDuplicateCharge = False\n",
    "    if len(arrMask)==0:\n",
    "        if len(arrange)>len(np.unique(arrange)):\n",
    "            foundDuplicateCharge=True\n",
    "    else:\n",
    "        if len(arrange[arrMask==1])>len(np.unique(arrange[arrMask==1])):\n",
    "            foundDuplicateCharge=True\n",
    "\n",
    "    if foundDuplicateCharge and len(calQMask)==0:\n",
    "        raise ValueError(\"Found duplicated charge arrangement, but did not specify calQmask\")  \n",
    "    if len(calQMask)>0 and np.count_nonzero(calQMask)!=48:\n",
    "        raise ValueError(\"calQmask must indicate 48 calQ \")  \n",
    "\n",
    "    for i in range(len(arrange)):\n",
    "        if len(arrMask)>0 :\n",
    "            ## fill hashmap only if arrMask allows it\n",
    "            if arrMask[i]==1:   \n",
    "                if(foundDuplicateCharge):\n",
    "                    ## fill hashmap only if calQMask allows it\n",
    "                    if calQMask[i]==1: hashmap[arrange[i]]=i                    \n",
    "                else:\n",
    "                    hashmap[arrange[i]]=i                    \n",
    "        else:\n",
    "            hashmap[arrange[i]]=i\n",
    "    ## Always map to 48 calQ orders\n",
    "    for i in range(len(np.unique(arrange))):\n",
    "        remap.append(hashmap[i])\n",
    "    return np.array(remap)\n",
    "\n",
    "## remap input/output of autoencoder into CALQs orders\n",
    "def mapToCalQ(x):\n",
    "    if len(arrange) > 0:\n",
    "        remap   = invertArrange(arrange,arrMask,calQMask)\n",
    "        if len(arrMask)>0:\n",
    "            imgSize =(8,8,1)[0] *(8,8,1)[1]* (8,8,1)[2]\n",
    "            x = x.reshape(len(x),imgSize)\n",
    "            x[:,arrMask==0]=0 ## apply arrMask\n",
    "            return x[:,remap]             ## map to calQ \n",
    "        else:\n",
    "            return x.reshape(len(x),48)[:,remap]\n",
    "    else:\n",
    "        return x.reshape(len(x),48)\n",
    "\n",
    "\n",
    "def predict(x):\n",
    "    decoded_Q = predict(x)\n",
    "    encoded_Q = self.encoder.predict(x)\n",
    "    encoded_Q = np.reshape(encoded_Q, (len(encoded_Q), 16, 1))\n",
    "    return x,decoded_Q, encoded_Q"
   ]
  },
  {
   "cell_type": "code",
   "execution_count": 38,
   "id": "715d2a59",
   "metadata": {},
   "outputs": [],
   "source": [
    "history = autoencoder.history"
   ]
  },
  {
   "cell_type": "code",
   "execution_count": 39,
   "id": "32fe17de",
   "metadata": {},
   "outputs": [
    {
     "name": "stdout",
     "output_type": "stream",
     "text": [
      "32/32 [==============================] - 0s 2ms/step\n"
     ]
    }
   ],
   "source": [
    "cnn_deQ = autoencoder.predict([shaped_data,sumdata,eta_values])"
   ]
  },
  {
   "cell_type": "code",
   "execution_count": 40,
   "id": "e9a2b20f",
   "metadata": {},
   "outputs": [
    {
     "name": "stdout",
     "output_type": "stream",
     "text": [
      "inputQ shape\n",
      "(1000, 48)\n",
      "inputcalQ shape\n",
      "(1000, 48)\n"
     ]
    }
   ],
   "source": [
    "# shape = (N,48) in CALQ order\n",
    "input_calQ = mapToCalQ(shaped_data)\n",
    "output_calQ = mapToCalQ(cnn_deQ)   # shape = (N,48) in CALQ order\n",
    "print('inputQ shape')\n",
    "print(input_calQ.shape)\n",
    "print('inputcalQ shape')\n",
    "print(output_calQ.shape)"
   ]
  },
  {
   "cell_type": "code",
   "execution_count": 41,
   "id": "3403e721",
   "metadata": {},
   "outputs": [],
   "source": [
    "val_max = maxdata[val_ind]\n",
    "val_sum = sumdata[val_ind]\n",
    "val_eta = eta_values[val_ind]"
   ]
  },
  {
   "cell_type": "code",
   "execution_count": 42,
   "id": "0ce416fd",
   "metadata": {},
   "outputs": [
    {
     "name": "stdout",
     "output_type": "stream",
     "text": [
      "Restore normalization\n"
     ]
    }
   ],
   "source": [
    "print('Restore normalization')\n",
    "\n",
    "input_calQ =  unnormalize(input_calQ.copy(),sumdata)\n",
    "output_calQ =  unnormalize(output_calQ.copy(),sumdata)"
   ]
  },
  {
   "cell_type": "markdown",
   "id": "0b9daa89",
   "metadata": {},
   "source": [
    "# Plot normdata"
   ]
  },
  {
   "cell_type": "code",
   "execution_count": 43,
   "id": "2122ee96",
   "metadata": {},
   "outputs": [
    {
     "data": {
      "text/plain": [
       "(1000, 48)"
      ]
     },
     "execution_count": 43,
     "metadata": {},
     "output_type": "execute_result"
    }
   ],
   "source": [
    "normdata.shape"
   ]
  },
  {
   "cell_type": "code",
   "execution_count": 44,
   "id": "fab17c20",
   "metadata": {},
   "outputs": [],
   "source": [
    "norm = pd.DataFrame(normdata)"
   ]
  },
  {
   "cell_type": "code",
   "execution_count": 45,
   "id": "837555d9",
   "metadata": {},
   "outputs": [
    {
     "data": {
      "text/plain": [
       "<matplotlib.legend.Legend at 0x7fe06875b550>"
      ]
     },
     "execution_count": 45,
     "metadata": {},
     "output_type": "execute_result"
    },
    {
     "data": {
      "image/png": "[encoded data removed]",
      "text/plain": [
       "<Figure size 640x480 with 1 Axes>"
      ]
     },
     "metadata": {},
     "output_type": "display_data"
    }
   ],
   "source": [
    "for i in range(48):\n",
    "    plt.hist(norm[i],label = '{}'.format(i),histtype='step')\n",
    "#plt.xlim(0.001,1.25)\n",
    "#plt.yscale('log')\n",
    "plt.legend()"
   ]
  },
  {
   "cell_type": "code",
   "execution_count": 46,
   "id": "51743ad0",
   "metadata": {},
   "outputs": [],
   "source": [
    "from utils.metrics import emd"
   ]
  },
  {
   "cell_type": "code",
   "execution_count": 47,
   "id": "b0331416",
   "metadata": {},
   "outputs": [],
   "source": [
    "indices = range(0,(len(input_calQ)))\n",
    "        \n",
    "emd_values = np.array([emd(input_calQ[i],output_calQ[j]) for i, j in zip(indices,indices)])"
   ]
  },
  {
   "cell_type": "code",
   "execution_count": 48,
   "id": "9e25ef4c",
   "metadata": {},
   "outputs": [],
   "source": [
    "import scipy\n",
    "\n",
    "from scipy import stats, optimize, interpolate"
   ]
  },
  {
   "cell_type": "code",
   "execution_count": 49,
   "id": "20dcf576",
   "metadata": {},
   "outputs": [
    {
     "data": {
      "text/plain": [
       "(array([ 12.,  95., 200., 256., 233., 142.,  39.,  15.,   7.,   1.]),\n",
       " array([0.45017802, 0.87784539, 1.30551277, 1.73318015, 2.16084752,\n",
       "        2.5885149 , 3.01618228, 3.44384965, 3.87151703, 4.29918441,\n",
       "        4.72685178]),\n",
       " <BarContainer object of 10 artists>)"
      ]
     },
     "execution_count": 49,
     "metadata": {},
     "output_type": "execute_result"
    },
    {
     "data": {
      "image/png": "[encoded data removed]",
      "text/plain": [
       "<Figure size 640x480 with 1 Axes>"
      ]
     },
     "metadata": {},
     "output_type": "display_data"
    }
   ],
   "source": [
    "plt.hist(emd_values)"
   ]
  },
  {
   "cell_type": "code",
   "execution_count": 50,
   "id": "f0ffa81c",
   "metadata": {},
   "outputs": [
    {
     "data": {
      "text/plain": [
       "<ErrorbarContainer object of 3 artists>"
      ]
     },
     "execution_count": 50,
     "metadata": {},
     "output_type": "execute_result"
    },
    {
     "data": {
      "image/png": "[encoded data removed]",
      "text/plain": [
       "<Figure size 640x480 with 1 Axes>"
      ]
     },
     "metadata": {},
     "output_type": "display_data"
    }
   ],
   "source": [
    "x=eta_values\n",
    "y=emd_values\n",
    "\n",
    "nbins=10\n",
    "lims=None\n",
    "stats=True\n",
    "if lims==None: lims = (x.min(),x.max())\n",
    "median_result = scipy.stats.binned_statistic(x, y, bins=nbins, range=lims, statistic=lambda x: np.quantile(x,0.5))\n",
    "lo_result     = scipy.stats.binned_statistic(x, y, bins=nbins, range=lims, statistic=lambda x: np.quantile(x,0.5-0.68/2))\n",
    "hi_result     = scipy.stats.binned_statistic(x, y, bins=nbins, range=lims, statistic=lambda x: np.quantile(x,0.5+0.68/2))\n",
    "median = np.nan_to_num(median_result.statistic)\n",
    "hi = np.nan_to_num(hi_result.statistic)\n",
    "lo = np.nan_to_num(lo_result.statistic)\n",
    "hie = hi-median\n",
    "loe = median-lo\n",
    "bin_edges = median_result.bin_edges\n",
    "bin_centers = (bin_edges[:-1] + bin_edges[1:])/2.\n",
    "\n",
    "plt.errorbar(x=bin_centers, y=median, yerr=[loe,hie], label='emd v eta')"
   ]
  },
  {
   "cell_type": "code",
   "execution_count": 51,
   "id": "a14fffb8",
   "metadata": {},
   "outputs": [
    {
     "data": {
      "text/plain": [
       "<ErrorbarContainer object of 3 artists>"
      ]
     },
     "execution_count": 51,
     "metadata": {},
     "output_type": "execute_result"
    },
    {
     "data": {
      "image/png": "[encoded data removed]",
      "text/plain": [
       "<Figure size 640x480 with 1 Axes>"
      ]
     },
     "metadata": {},
     "output_type": "display_data"
    }
   ],
   "source": [
    "x=eta_values\n",
    "y=emd_values*sumdata*sumdata\n",
    "\n",
    "nbins=10\n",
    "lims=None\n",
    "stats=True\n",
    "if lims==None: lims = (x.min(),x.max())\n",
    "median_result = scipy.stats.binned_statistic(x, y, bins=nbins, range=lims, statistic=lambda x: np.quantile(x,0.5))\n",
    "lo_result     = scipy.stats.binned_statistic(x, y, bins=nbins, range=lims, statistic=lambda x: np.quantile(x,0.5-0.68/2))\n",
    "hi_result     = scipy.stats.binned_statistic(x, y, bins=nbins, range=lims, statistic=lambda x: np.quantile(x,0.5+0.68/2))\n",
    "median = np.nan_to_num(median_result.statistic)\n",
    "hi = np.nan_to_num(hi_result.statistic)\n",
    "lo = np.nan_to_num(lo_result.statistic)\n",
    "hie = hi-median\n",
    "loe = median-lo\n",
    "bin_edges = median_result.bin_edges\n",
    "bin_centers = (bin_edges[:-1] + bin_edges[1:])/2.\n",
    "\n",
    "plt.errorbar(x=bin_centers, y=median, yerr=[loe,hie], label='emd v eta')"
   ]
  },
  {
   "cell_type": "code",
   "execution_count": 52,
   "id": "47c509bb",
   "metadata": {},
   "outputs": [],
   "source": [
    "occupancy_0MT = np.count_nonzero(input_calQ,axis=1)"
   ]
  },
  {
   "cell_type": "code",
   "execution_count": 53,
   "id": "f7630f7d",
   "metadata": {},
   "outputs": [
    {
     "data": {
      "text/plain": [
       "<ErrorbarContainer object of 3 artists>"
      ]
     },
     "execution_count": 53,
     "metadata": {},
     "output_type": "execute_result"
    },
    {
     "data": {
      "image/png": "[encoded data removed]",
      "text/plain": [
       "<Figure size 640x480 with 1 Axes>"
      ]
     },
     "metadata": {},
     "output_type": "display_data"
    }
   ],
   "source": [
    "x=occupancy_0MT\n",
    "y=emd_values\n",
    "\n",
    "nbins=10\n",
    "lims=None\n",
    "stats=True\n",
    "if lims==None: lims = (x.min(),x.max())\n",
    "median_result = scipy.stats.binned_statistic(x, y, bins=nbins, range=lims, statistic=lambda x: np.quantile(x,0.5))\n",
    "lo_result     = scipy.stats.binned_statistic(x, y, bins=nbins, range=lims, statistic=lambda x: np.quantile(x,0.5-0.68/2))\n",
    "hi_result     = scipy.stats.binned_statistic(x, y, bins=nbins, range=lims, statistic=lambda x: np.quantile(x,0.5+0.68/2))\n",
    "median = np.nan_to_num(median_result.statistic)\n",
    "hi = np.nan_to_num(hi_result.statistic)\n",
    "lo = np.nan_to_num(lo_result.statistic)\n",
    "hie = hi-median\n",
    "loe = median-lo\n",
    "bin_edges = median_result.bin_edges\n",
    "bin_centers = (bin_edges[:-1] + bin_edges[1:])/2.\n",
    "\n",
    "plt.errorbar(x=bin_centers, y=median, yerr=[loe,hie], label='emd v eta')"
   ]
  },
  {
   "cell_type": "code",
   "execution_count": 54,
   "id": "fa4c015a",
   "metadata": {},
   "outputs": [],
   "source": [
    "with open('./history.pkl', 'wb') as file_pi:\n",
    "    pickle.dump(history.history, file_pi)"
   ]
  },
  {
   "cell_type": "code",
   "execution_count": 57,
   "id": "3f8c140f",
   "metadata": {},
   "outputs": [],
   "source": [
    "from qkeras.utils import model_save_quantized_weights"
   ]
  },
  {
   "cell_type": "code",
   "execution_count": 60,
   "id": "4bc8df44",
   "metadata": {},
   "outputs": [],
   "source": [
    "name = 'extra_inputs'"
   ]
  },
  {
   "cell_type": "code",
   "execution_count": 61,
   "id": "a5329eda",
   "metadata": {},
   "outputs": [],
   "source": [
    "from utils import graph\n",
    "\n",
    "json_string = autoencoder.to_json()\n",
    "encoder = autoencoder.get_layer(\"encoder\")\n",
    "decoder = autoencoder.get_layer(\"decoder\")\n",
    "with open('./%s.json'%name,'w') as f:        f.write(autoencoder.to_json())\n",
    "with open('./%s.json'%(\"encoder_\"+name),'w') as f:            f.write(encoder.to_json())\n",
    "with open('./%s.json'%(\"decoder_\"+name),'w') as f:            f.write(decoder.to_json())\n",
    "autoencoder.save_weights('%s.hdf5'%name)\n",
    "encoder.save_weights('%s.hdf5'%(\"encoder_\"+name))\n",
    "decoder.save_weights('%s.hdf5'%(\"decoder_\"+name))"
   ]
  },
  {
   "cell_type": "code",
   "execution_count": 62,
   "id": "23e70577",
   "metadata": {},
   "outputs": [
    {
     "name": "stdout",
     "output_type": "stream",
     "text": [
      "... quantizing model\n"
     ]
    }
   ],
   "source": [
    "encoder_qWeight = model_save_quantized_weights(encoder)\n",
    "with open('encoder_'+name+'.pkl','wb') as f:\n",
    "    pickle.dump(encoder_qWeight,f)\n",
    "encoder = graph.set_quantized_weights(encoder,'encoder_'+name+'.pkl')"
   ]
  },
  {
   "cell_type": "code",
   "execution_count": 151,
   "id": "3c136992",
   "metadata": {},
   "outputs": [],
   "source": [
    "from tensorflow.python.framework.convert_to_constants import convert_variables_to_constants_v2"
   ]
  },
  {
   "cell_type": "code",
   "execution_count": 155,
   "id": "6d08aff7",
   "metadata": {},
   "outputs": [],
   "source": [
    "def write_frozen_graph_encoder(model,outputName=\"frozen_graph.pb\",logdir='./',asText=False):\n",
    "    full_model = tf.function(lambda x: model(x))\n",
    "    full_model = full_model.get_concrete_function(\n",
    "        x=[tf.TensorSpec(shape = model.inputs[0].shape,dtype=tf.float32),\n",
    "   tf.TensorSpec(shape = model.inputs[1].shape,dtype=tf.float32),\n",
    "   tf.TensorSpec(shape = model.inputs[2].shape,dtype=tf.float32)])\n",
    "\n",
    "    frozen_func = convert_variables_to_constants_v2(full_model)\n",
    "    frozen_func.graph.as_graph_def()\n",
    "\n",
    "    layers = [op.name for op in frozen_func.graph.get_operations()]\n",
    "\n",
    "    # Save frozen graph from frozen ConcreteFunction to hard drive\n",
    "    tf.io.write_graph(graph_or_graph_def=frozen_func.graph,\n",
    "                      logdir=logdir,\n",
    "                      name=outputName,\n",
    "                      as_text=asText)"
   ]
  },
  {
   "cell_type": "code",
   "execution_count": 156,
   "id": "8b44042a",
   "metadata": {},
   "outputs": [],
   "source": [
    "def write_frozen_graph_decoder(model,outputName=\"frozen_graph.pb\",logdir='./',asText=False):\n",
    "    full_model = tf.function(lambda x: model(x))\n",
    "    full_model = full_model.get_concrete_function(\n",
    "        x=tf.TensorSpec(model.inputs[0].shape, model.inputs[0].dtype))\n",
    "\n",
    "    frozen_func = convert_variables_to_constants_v2(full_model)\n",
    "    frozen_func.graph.as_graph_def()\n",
    "\n",
    "    layers = [op.name for op in frozen_func.graph.get_operations()]\n",
    "\n",
    "    # Save frozen graph from frozen ConcreteFunction to hard drive\n",
    "    tf.io.write_graph(graph_or_graph_def=frozen_func.graph,\n",
    "                      logdir=logdir,\n",
    "                      name=outputName,\n",
    "                      as_text=asText)"
   ]
  },
  {
   "cell_type": "code",
   "execution_count": 157,
   "id": "5b26bfa9",
   "metadata": {},
   "outputs": [
    {
     "name": "stderr",
     "output_type": "stream",
     "text": [
      "2023-02-16 13:45:46.720979: I tensorflow/core/grappler/devices.cc:75] Number of eligible GPUs (core count >= 8, compute capability >= 0.0): 0 (Note: TensorFlow was not compiled with CUDA or ROCm support)\n",
      "2023-02-16 13:45:46.721060: I tensorflow/core/grappler/clusters/single_machine.cc:358] Starting new session\n",
      "2023-02-16 13:45:47.168704: I tensorflow/core/grappler/devices.cc:75] Number of eligible GPUs (core count >= 8, compute capability >= 0.0): 0 (Note: TensorFlow was not compiled with CUDA or ROCm support)\n",
      "2023-02-16 13:45:47.168779: I tensorflow/core/grappler/clusters/single_machine.cc:358] Starting new session\n"
     ]
    }
   ],
   "source": [
    "write_frozen_graph_encoder(encoder,'encoder_'+name+'.pb')\n",
    "write_frozen_graph_encoder(encoder,'encoder_'+name+'.pb.ascii','./',True)"
   ]
  },
  {
   "cell_type": "code",
   "execution_count": 158,
   "id": "778b4677",
   "metadata": {},
   "outputs": [
    {
     "name": "stderr",
     "output_type": "stream",
     "text": [
      "2023-02-16 13:46:03.519575: I tensorflow/core/grappler/devices.cc:75] Number of eligible GPUs (core count >= 8, compute capability >= 0.0): 0 (Note: TensorFlow was not compiled with CUDA or ROCm support)\n",
      "2023-02-16 13:46:03.519678: I tensorflow/core/grappler/clusters/single_machine.cc:358] Starting new session\n",
      "2023-02-16 13:46:03.696243: I tensorflow/core/grappler/devices.cc:75] Number of eligible GPUs (core count >= 8, compute capability >= 0.0): 0 (Note: TensorFlow was not compiled with CUDA or ROCm support)\n",
      "2023-02-16 13:46:03.696308: I tensorflow/core/grappler/clusters/single_machine.cc:358] Starting new session\n"
     ]
    }
   ],
   "source": [
    "write_frozen_graph_decoder(decoder,'decoder_'+name+'.pb')\n",
    "write_frozen_graph_decoder(decoder,'decoder_'+name+'.pb.ascii','./',True)"
   ]
  },
  {
   "cell_type": "code",
   "execution_count": null,
   "id": "6b01f9a1",
   "metadata": {},
   "outputs": [],
   "source": []
  }
 ],
 "metadata": {
  "kernelspec": {
   "display_name": "Python 3 (ipykernel)",
   "language": "python",
   "name": "python3"
  },
  "language_info": {
   "codemirror_mode": {
    "name": "ipython",
    "version": 3
   },
   "file_extension": ".py",
   "mimetype": "text/x-python",
   "name": "python",
   "nbconvert_exporter": "python",
   "pygments_lexer": "ipython3",
   "version": "3.10.6"
  }
 },
 "nbformat": 4,
 "nbformat_minor": 5
}
